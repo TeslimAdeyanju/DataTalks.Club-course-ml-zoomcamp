{
 "cells": [
  {
   "cell_type": "markdown",
   "metadata": {},
   "source": [
    "# Homework 2: \n",
    "\n",
    "##  Machine Learning for Regression 2024\n",
    "___"
   ]
  },
  {
   "cell_type": "markdown",
   "metadata": {},
   "source": [
    "#### STEP 1: Import the necessary libraries, and load the data\n",
    "____"
   ]
  },
  {
   "cell_type": "code",
   "execution_count": 1350,
   "metadata": {},
   "outputs": [
    {
     "data": {
      "text/html": [
       "<div>\n",
       "<style scoped>\n",
       "    .dataframe tbody tr th:only-of-type {\n",
       "        vertical-align: middle;\n",
       "    }\n",
       "\n",
       "    .dataframe tbody tr th {\n",
       "        vertical-align: top;\n",
       "    }\n",
       "\n",
       "    .dataframe thead th {\n",
       "        text-align: right;\n",
       "    }\n",
       "</style>\n",
       "<table border=\"1\" class=\"dataframe\">\n",
       "  <thead>\n",
       "    <tr style=\"text-align: right;\">\n",
       "      <th></th>\n",
       "      <th>Laptop</th>\n",
       "      <th>Status</th>\n",
       "      <th>Brand</th>\n",
       "      <th>Model</th>\n",
       "      <th>CPU</th>\n",
       "      <th>RAM</th>\n",
       "      <th>Storage</th>\n",
       "      <th>Storage type</th>\n",
       "      <th>GPU</th>\n",
       "      <th>Screen</th>\n",
       "      <th>Touch</th>\n",
       "      <th>Final Price</th>\n",
       "    </tr>\n",
       "  </thead>\n",
       "  <tbody>\n",
       "    <tr>\n",
       "      <th>0</th>\n",
       "      <td>ASUS ExpertBook B1 B1502CBA-EJ0436X Intel Core...</td>\n",
       "      <td>New</td>\n",
       "      <td>Asus</td>\n",
       "      <td>ExpertBook</td>\n",
       "      <td>Intel Core i5</td>\n",
       "      <td>8</td>\n",
       "      <td>512</td>\n",
       "      <td>SSD</td>\n",
       "      <td>NaN</td>\n",
       "      <td>15.6</td>\n",
       "      <td>No</td>\n",
       "      <td>1009.00</td>\n",
       "    </tr>\n",
       "    <tr>\n",
       "      <th>1</th>\n",
       "      <td>Alurin Go Start Intel Celeron N4020/8GB/256GB ...</td>\n",
       "      <td>New</td>\n",
       "      <td>Alurin</td>\n",
       "      <td>Go</td>\n",
       "      <td>Intel Celeron</td>\n",
       "      <td>8</td>\n",
       "      <td>256</td>\n",
       "      <td>SSD</td>\n",
       "      <td>NaN</td>\n",
       "      <td>15.6</td>\n",
       "      <td>No</td>\n",
       "      <td>299.00</td>\n",
       "    </tr>\n",
       "    <tr>\n",
       "      <th>2</th>\n",
       "      <td>ASUS ExpertBook B1 B1502CBA-EJ0424X Intel Core...</td>\n",
       "      <td>New</td>\n",
       "      <td>Asus</td>\n",
       "      <td>ExpertBook</td>\n",
       "      <td>Intel Core i3</td>\n",
       "      <td>8</td>\n",
       "      <td>256</td>\n",
       "      <td>SSD</td>\n",
       "      <td>NaN</td>\n",
       "      <td>15.6</td>\n",
       "      <td>No</td>\n",
       "      <td>789.00</td>\n",
       "    </tr>\n",
       "    <tr>\n",
       "      <th>3</th>\n",
       "      <td>MSI Katana GF66 12UC-082XES Intel Core i7-1270...</td>\n",
       "      <td>New</td>\n",
       "      <td>MSI</td>\n",
       "      <td>Katana</td>\n",
       "      <td>Intel Core i7</td>\n",
       "      <td>16</td>\n",
       "      <td>1000</td>\n",
       "      <td>SSD</td>\n",
       "      <td>RTX 3050</td>\n",
       "      <td>15.6</td>\n",
       "      <td>No</td>\n",
       "      <td>1199.00</td>\n",
       "    </tr>\n",
       "    <tr>\n",
       "      <th>4</th>\n",
       "      <td>HP 15S-FQ5085NS Intel Core i5-1235U/16GB/512GB...</td>\n",
       "      <td>New</td>\n",
       "      <td>HP</td>\n",
       "      <td>15S</td>\n",
       "      <td>Intel Core i5</td>\n",
       "      <td>16</td>\n",
       "      <td>512</td>\n",
       "      <td>SSD</td>\n",
       "      <td>NaN</td>\n",
       "      <td>15.6</td>\n",
       "      <td>No</td>\n",
       "      <td>669.01</td>\n",
       "    </tr>\n",
       "  </tbody>\n",
       "</table>\n",
       "</div>"
      ],
      "text/plain": [
       "                                              Laptop Status   Brand  \\\n",
       "0  ASUS ExpertBook B1 B1502CBA-EJ0436X Intel Core...    New    Asus   \n",
       "1  Alurin Go Start Intel Celeron N4020/8GB/256GB ...    New  Alurin   \n",
       "2  ASUS ExpertBook B1 B1502CBA-EJ0424X Intel Core...    New    Asus   \n",
       "3  MSI Katana GF66 12UC-082XES Intel Core i7-1270...    New     MSI   \n",
       "4  HP 15S-FQ5085NS Intel Core i5-1235U/16GB/512GB...    New      HP   \n",
       "\n",
       "        Model            CPU  RAM  Storage Storage type       GPU  Screen  \\\n",
       "0  ExpertBook  Intel Core i5    8      512          SSD       NaN    15.6   \n",
       "1          Go  Intel Celeron    8      256          SSD       NaN    15.6   \n",
       "2  ExpertBook  Intel Core i3    8      256          SSD       NaN    15.6   \n",
       "3      Katana  Intel Core i7   16     1000          SSD  RTX 3050    15.6   \n",
       "4         15S  Intel Core i5   16      512          SSD       NaN    15.6   \n",
       "\n",
       "  Touch  Final Price  \n",
       "0    No      1009.00  \n",
       "1    No       299.00  \n",
       "2    No       789.00  \n",
       "3    No      1199.00  \n",
       "4    No       669.01  "
      ]
     },
     "execution_count": 1350,
     "metadata": {},
     "output_type": "execute_result"
    }
   ],
   "source": [
    "# Import the library\n",
    "import pandas as pd\n",
    "import numpy as np\n",
    "import matplotlib.pyplot as plt\n",
    "import seaborn as sns\n",
    "%matplotlib inline\n",
    "\n",
    "# load the data\n",
    "df = pd.read_csv('laptops.csv')\n",
    "df.head()"
   ]
  },
  {
   "cell_type": "code",
   "execution_count": 1351,
   "metadata": {},
   "outputs": [
    {
     "data": {
      "text/html": [
       "<div>\n",
       "<style scoped>\n",
       "    .dataframe tbody tr th:only-of-type {\n",
       "        vertical-align: middle;\n",
       "    }\n",
       "\n",
       "    .dataframe tbody tr th {\n",
       "        vertical-align: top;\n",
       "    }\n",
       "\n",
       "    .dataframe thead th {\n",
       "        text-align: right;\n",
       "    }\n",
       "</style>\n",
       "<table border=\"1\" class=\"dataframe\">\n",
       "  <thead>\n",
       "    <tr style=\"text-align: right;\">\n",
       "      <th></th>\n",
       "      <th>laptop</th>\n",
       "      <th>status</th>\n",
       "      <th>brand</th>\n",
       "      <th>model</th>\n",
       "      <th>cpu</th>\n",
       "      <th>ram</th>\n",
       "      <th>storage</th>\n",
       "      <th>storage_type</th>\n",
       "      <th>gpu</th>\n",
       "      <th>screen</th>\n",
       "      <th>touch</th>\n",
       "      <th>final_price</th>\n",
       "    </tr>\n",
       "  </thead>\n",
       "  <tbody>\n",
       "    <tr>\n",
       "      <th>0</th>\n",
       "      <td>ASUS ExpertBook B1 B1502CBA-EJ0436X Intel Core...</td>\n",
       "      <td>New</td>\n",
       "      <td>Asus</td>\n",
       "      <td>ExpertBook</td>\n",
       "      <td>Intel Core i5</td>\n",
       "      <td>8</td>\n",
       "      <td>512</td>\n",
       "      <td>SSD</td>\n",
       "      <td>NaN</td>\n",
       "      <td>15.6</td>\n",
       "      <td>No</td>\n",
       "      <td>1009.00</td>\n",
       "    </tr>\n",
       "    <tr>\n",
       "      <th>1</th>\n",
       "      <td>Alurin Go Start Intel Celeron N4020/8GB/256GB ...</td>\n",
       "      <td>New</td>\n",
       "      <td>Alurin</td>\n",
       "      <td>Go</td>\n",
       "      <td>Intel Celeron</td>\n",
       "      <td>8</td>\n",
       "      <td>256</td>\n",
       "      <td>SSD</td>\n",
       "      <td>NaN</td>\n",
       "      <td>15.6</td>\n",
       "      <td>No</td>\n",
       "      <td>299.00</td>\n",
       "    </tr>\n",
       "    <tr>\n",
       "      <th>2</th>\n",
       "      <td>ASUS ExpertBook B1 B1502CBA-EJ0424X Intel Core...</td>\n",
       "      <td>New</td>\n",
       "      <td>Asus</td>\n",
       "      <td>ExpertBook</td>\n",
       "      <td>Intel Core i3</td>\n",
       "      <td>8</td>\n",
       "      <td>256</td>\n",
       "      <td>SSD</td>\n",
       "      <td>NaN</td>\n",
       "      <td>15.6</td>\n",
       "      <td>No</td>\n",
       "      <td>789.00</td>\n",
       "    </tr>\n",
       "    <tr>\n",
       "      <th>3</th>\n",
       "      <td>MSI Katana GF66 12UC-082XES Intel Core i7-1270...</td>\n",
       "      <td>New</td>\n",
       "      <td>MSI</td>\n",
       "      <td>Katana</td>\n",
       "      <td>Intel Core i7</td>\n",
       "      <td>16</td>\n",
       "      <td>1000</td>\n",
       "      <td>SSD</td>\n",
       "      <td>RTX 3050</td>\n",
       "      <td>15.6</td>\n",
       "      <td>No</td>\n",
       "      <td>1199.00</td>\n",
       "    </tr>\n",
       "    <tr>\n",
       "      <th>4</th>\n",
       "      <td>HP 15S-FQ5085NS Intel Core i5-1235U/16GB/512GB...</td>\n",
       "      <td>New</td>\n",
       "      <td>HP</td>\n",
       "      <td>15S</td>\n",
       "      <td>Intel Core i5</td>\n",
       "      <td>16</td>\n",
       "      <td>512</td>\n",
       "      <td>SSD</td>\n",
       "      <td>NaN</td>\n",
       "      <td>15.6</td>\n",
       "      <td>No</td>\n",
       "      <td>669.01</td>\n",
       "    </tr>\n",
       "    <tr>\n",
       "      <th>...</th>\n",
       "      <td>...</td>\n",
       "      <td>...</td>\n",
       "      <td>...</td>\n",
       "      <td>...</td>\n",
       "      <td>...</td>\n",
       "      <td>...</td>\n",
       "      <td>...</td>\n",
       "      <td>...</td>\n",
       "      <td>...</td>\n",
       "      <td>...</td>\n",
       "      <td>...</td>\n",
       "      <td>...</td>\n",
       "    </tr>\n",
       "    <tr>\n",
       "      <th>2155</th>\n",
       "      <td>Razer Blade 17 FHD 360Hz Intel Core i7-11800H/...</td>\n",
       "      <td>Refurbished</td>\n",
       "      <td>Razer</td>\n",
       "      <td>Blade</td>\n",
       "      <td>Intel Core i7</td>\n",
       "      <td>16</td>\n",
       "      <td>1000</td>\n",
       "      <td>SSD</td>\n",
       "      <td>RTX 3060</td>\n",
       "      <td>17.3</td>\n",
       "      <td>No</td>\n",
       "      <td>2699.99</td>\n",
       "    </tr>\n",
       "    <tr>\n",
       "      <th>2156</th>\n",
       "      <td>Razer Blade 17 FHD 360Hz Intel Core i7-11800H/...</td>\n",
       "      <td>Refurbished</td>\n",
       "      <td>Razer</td>\n",
       "      <td>Blade</td>\n",
       "      <td>Intel Core i7</td>\n",
       "      <td>16</td>\n",
       "      <td>1000</td>\n",
       "      <td>SSD</td>\n",
       "      <td>RTX 3070</td>\n",
       "      <td>17.3</td>\n",
       "      <td>No</td>\n",
       "      <td>2899.99</td>\n",
       "    </tr>\n",
       "    <tr>\n",
       "      <th>2157</th>\n",
       "      <td>Razer Blade 17 FHD 360Hz Intel Core i7-11800H/...</td>\n",
       "      <td>Refurbished</td>\n",
       "      <td>Razer</td>\n",
       "      <td>Blade</td>\n",
       "      <td>Intel Core i7</td>\n",
       "      <td>32</td>\n",
       "      <td>1000</td>\n",
       "      <td>SSD</td>\n",
       "      <td>RTX 3080</td>\n",
       "      <td>17.3</td>\n",
       "      <td>No</td>\n",
       "      <td>3399.99</td>\n",
       "    </tr>\n",
       "    <tr>\n",
       "      <th>2158</th>\n",
       "      <td>Razer Book 13 Intel Evo Core i7-1165G7/16GB/1T...</td>\n",
       "      <td>Refurbished</td>\n",
       "      <td>Razer</td>\n",
       "      <td>Book</td>\n",
       "      <td>Intel Evo Core i7</td>\n",
       "      <td>16</td>\n",
       "      <td>1000</td>\n",
       "      <td>SSD</td>\n",
       "      <td>NaN</td>\n",
       "      <td>13.4</td>\n",
       "      <td>Yes</td>\n",
       "      <td>1899.99</td>\n",
       "    </tr>\n",
       "    <tr>\n",
       "      <th>2159</th>\n",
       "      <td>Razer Book FHD+ Intel Evo Core i7-1165G7/16GB/...</td>\n",
       "      <td>Refurbished</td>\n",
       "      <td>Razer</td>\n",
       "      <td>Book</td>\n",
       "      <td>Intel Evo Core i7</td>\n",
       "      <td>16</td>\n",
       "      <td>256</td>\n",
       "      <td>SSD</td>\n",
       "      <td>NaN</td>\n",
       "      <td>13.4</td>\n",
       "      <td>Yes</td>\n",
       "      <td>1699.99</td>\n",
       "    </tr>\n",
       "  </tbody>\n",
       "</table>\n",
       "<p>2160 rows × 12 columns</p>\n",
       "</div>"
      ],
      "text/plain": [
       "                                                 laptop       status   brand  \\\n",
       "0     ASUS ExpertBook B1 B1502CBA-EJ0436X Intel Core...          New    Asus   \n",
       "1     Alurin Go Start Intel Celeron N4020/8GB/256GB ...          New  Alurin   \n",
       "2     ASUS ExpertBook B1 B1502CBA-EJ0424X Intel Core...          New    Asus   \n",
       "3     MSI Katana GF66 12UC-082XES Intel Core i7-1270...          New     MSI   \n",
       "4     HP 15S-FQ5085NS Intel Core i5-1235U/16GB/512GB...          New      HP   \n",
       "...                                                 ...          ...     ...   \n",
       "2155  Razer Blade 17 FHD 360Hz Intel Core i7-11800H/...  Refurbished   Razer   \n",
       "2156  Razer Blade 17 FHD 360Hz Intel Core i7-11800H/...  Refurbished   Razer   \n",
       "2157  Razer Blade 17 FHD 360Hz Intel Core i7-11800H/...  Refurbished   Razer   \n",
       "2158  Razer Book 13 Intel Evo Core i7-1165G7/16GB/1T...  Refurbished   Razer   \n",
       "2159  Razer Book FHD+ Intel Evo Core i7-1165G7/16GB/...  Refurbished   Razer   \n",
       "\n",
       "           model                cpu  ram  storage storage_type       gpu  \\\n",
       "0     ExpertBook      Intel Core i5    8      512          SSD       NaN   \n",
       "1             Go      Intel Celeron    8      256          SSD       NaN   \n",
       "2     ExpertBook      Intel Core i3    8      256          SSD       NaN   \n",
       "3         Katana      Intel Core i7   16     1000          SSD  RTX 3050   \n",
       "4            15S      Intel Core i5   16      512          SSD       NaN   \n",
       "...          ...                ...  ...      ...          ...       ...   \n",
       "2155       Blade      Intel Core i7   16     1000          SSD  RTX 3060   \n",
       "2156       Blade      Intel Core i7   16     1000          SSD  RTX 3070   \n",
       "2157       Blade      Intel Core i7   32     1000          SSD  RTX 3080   \n",
       "2158        Book  Intel Evo Core i7   16     1000          SSD       NaN   \n",
       "2159        Book  Intel Evo Core i7   16      256          SSD       NaN   \n",
       "\n",
       "      screen touch  final_price  \n",
       "0       15.6    No      1009.00  \n",
       "1       15.6    No       299.00  \n",
       "2       15.6    No       789.00  \n",
       "3       15.6    No      1199.00  \n",
       "4       15.6    No       669.01  \n",
       "...      ...   ...          ...  \n",
       "2155    17.3    No      2699.99  \n",
       "2156    17.3    No      2899.99  \n",
       "2157    17.3    No      3399.99  \n",
       "2158    13.4   Yes      1899.99  \n",
       "2159    13.4   Yes      1699.99  \n",
       "\n",
       "[2160 rows x 12 columns]"
      ]
     },
     "execution_count": 1351,
     "metadata": {},
     "output_type": "execute_result"
    }
   ],
   "source": [
    "# Nornalise the column names\n",
    "\n",
    "df.columns = df.columns.str.lower().str.replace(' ', '_')\n",
    "df"
   ]
  },
  {
   "cell_type": "code",
   "execution_count": 1352,
   "metadata": {},
   "outputs": [
    {
     "data": {
      "text/html": [
       "<div>\n",
       "<style scoped>\n",
       "    .dataframe tbody tr th:only-of-type {\n",
       "        vertical-align: middle;\n",
       "    }\n",
       "\n",
       "    .dataframe tbody tr th {\n",
       "        vertical-align: top;\n",
       "    }\n",
       "\n",
       "    .dataframe thead th {\n",
       "        text-align: right;\n",
       "    }\n",
       "</style>\n",
       "<table border=\"1\" class=\"dataframe\">\n",
       "  <thead>\n",
       "    <tr style=\"text-align: right;\">\n",
       "      <th></th>\n",
       "      <th>ram</th>\n",
       "      <th>storage</th>\n",
       "      <th>screen</th>\n",
       "      <th>final_price</th>\n",
       "    </tr>\n",
       "  </thead>\n",
       "  <tbody>\n",
       "    <tr>\n",
       "      <th>0</th>\n",
       "      <td>8</td>\n",
       "      <td>512</td>\n",
       "      <td>15.6</td>\n",
       "      <td>1009.00</td>\n",
       "    </tr>\n",
       "    <tr>\n",
       "      <th>1</th>\n",
       "      <td>8</td>\n",
       "      <td>256</td>\n",
       "      <td>15.6</td>\n",
       "      <td>299.00</td>\n",
       "    </tr>\n",
       "    <tr>\n",
       "      <th>2</th>\n",
       "      <td>8</td>\n",
       "      <td>256</td>\n",
       "      <td>15.6</td>\n",
       "      <td>789.00</td>\n",
       "    </tr>\n",
       "    <tr>\n",
       "      <th>3</th>\n",
       "      <td>16</td>\n",
       "      <td>1000</td>\n",
       "      <td>15.6</td>\n",
       "      <td>1199.00</td>\n",
       "    </tr>\n",
       "    <tr>\n",
       "      <th>4</th>\n",
       "      <td>16</td>\n",
       "      <td>512</td>\n",
       "      <td>15.6</td>\n",
       "      <td>669.01</td>\n",
       "    </tr>\n",
       "    <tr>\n",
       "      <th>...</th>\n",
       "      <td>...</td>\n",
       "      <td>...</td>\n",
       "      <td>...</td>\n",
       "      <td>...</td>\n",
       "    </tr>\n",
       "    <tr>\n",
       "      <th>2155</th>\n",
       "      <td>16</td>\n",
       "      <td>1000</td>\n",
       "      <td>17.3</td>\n",
       "      <td>2699.99</td>\n",
       "    </tr>\n",
       "    <tr>\n",
       "      <th>2156</th>\n",
       "      <td>16</td>\n",
       "      <td>1000</td>\n",
       "      <td>17.3</td>\n",
       "      <td>2899.99</td>\n",
       "    </tr>\n",
       "    <tr>\n",
       "      <th>2157</th>\n",
       "      <td>32</td>\n",
       "      <td>1000</td>\n",
       "      <td>17.3</td>\n",
       "      <td>3399.99</td>\n",
       "    </tr>\n",
       "    <tr>\n",
       "      <th>2158</th>\n",
       "      <td>16</td>\n",
       "      <td>1000</td>\n",
       "      <td>13.4</td>\n",
       "      <td>1899.99</td>\n",
       "    </tr>\n",
       "    <tr>\n",
       "      <th>2159</th>\n",
       "      <td>16</td>\n",
       "      <td>256</td>\n",
       "      <td>13.4</td>\n",
       "      <td>1699.99</td>\n",
       "    </tr>\n",
       "  </tbody>\n",
       "</table>\n",
       "<p>2160 rows × 4 columns</p>\n",
       "</div>"
      ],
      "text/plain": [
       "      ram  storage  screen  final_price\n",
       "0       8      512    15.6      1009.00\n",
       "1       8      256    15.6       299.00\n",
       "2       8      256    15.6       789.00\n",
       "3      16     1000    15.6      1199.00\n",
       "4      16      512    15.6       669.01\n",
       "...   ...      ...     ...          ...\n",
       "2155   16     1000    17.3      2699.99\n",
       "2156   16     1000    17.3      2899.99\n",
       "2157   32     1000    17.3      3399.99\n",
       "2158   16     1000    13.4      1899.99\n",
       "2159   16      256    13.4      1699.99\n",
       "\n",
       "[2160 rows x 4 columns]"
      ]
     },
     "execution_count": 1352,
     "metadata": {},
     "output_type": "execute_result"
    }
   ],
   "source": [
    "# keeping the data with the interested columns\n",
    "interested_columns = ['ram', 'storage', 'screen', 'final_price']\n",
    "\n",
    "df = df[interested_columns]\n",
    "df.reset_index(drop=True, inplace=True)\n",
    "df"
   ]
  },
  {
   "cell_type": "code",
   "execution_count": 1353,
   "metadata": {},
   "outputs": [
    {
     "data": {
      "text/plain": [
       "ram              int64\n",
       "storage          int64\n",
       "screen         float64\n",
       "final_price    float64\n",
       "dtype: object"
      ]
     },
     "execution_count": 1353,
     "metadata": {},
     "output_type": "execute_result"
    }
   ],
   "source": [
    "# Checking the data types\n",
    "df.dtypes"
   ]
  },
  {
   "cell_type": "code",
   "execution_count": 1354,
   "metadata": {},
   "outputs": [
    {
     "data": {
      "text/plain": [
       "<AxesSubplot:xlabel='final_price', ylabel='Count'>"
      ]
     },
     "execution_count": 1354,
     "metadata": {},
     "output_type": "execute_result"
    },
    {
     "data": {
      "image/png": "[encoded data removed]",
      "text/plain": [
       "<Figure size 640x480 with 1 Axes>"
      ]
     },
     "metadata": {},
     "output_type": "display_data"
    }
   ],
   "source": [
    "sns.histplot(df.final_price, bins=50)"
   ]
  },
  {
   "cell_type": "markdown",
   "metadata": {},
   "source": [
    "####  STEP 2: Prepare and split the dataset\n",
    "___"
   ]
  },
  {
   "cell_type": "code",
   "execution_count": 1355,
   "metadata": {},
   "outputs": [],
   "source": [
    "# 1. check the count of the data set\n",
    "n = len(df)\n",
    "\n",
    "\n",
    "# 2. Turning the dataset (n) into nupy arrays, and assigning the values to the variables\n",
    "idx = np.arange(n)\n",
    "\n",
    "\n",
    "# 3. Shuffling the data, and setting the random seed to 42 for reproducibility\n",
    "np.random.seed(42)\n",
    "np.random.shuffle(idx)\n",
    "\n",
    "\n",
    "# 4. Splitting the data into train, validation, and test sets\n",
    "n = len(df) # total number of samples\n",
    "n_val = int(n * 0.2) # 20% of the dataset\n",
    "n_test = int(n * 0.2) # 20% of the dataset\n",
    "n_train = n - (n_val) - (n_test) # 60% of the dataset\n",
    "\n",
    "# 5. After the shuffling, apply the shuffling data set to the train, val and test data\n",
    "df_train = df.iloc[idx[:n_train]]\n",
    "df_val = df.iloc[idx[n_train:n_train+n_val]]\n",
    "df_test = df.iloc[idx[n_train+n_val:]]\n",
    "\n",
    "\n",
    "# 6. Resetting the index of the data\n",
    "df_train = df_train.reset_index(drop=True)\n",
    "df_val = df_val.reset_index(drop=True)\n",
    "df_test = df_test.reset_index(drop=True)\n"
   ]
  },
  {
   "cell_type": "code",
   "execution_count": 1356,
   "metadata": {},
   "outputs": [
    {
     "data": {
      "text/html": [
       "<div>\n",
       "<style scoped>\n",
       "    .dataframe tbody tr th:only-of-type {\n",
       "        vertical-align: middle;\n",
       "    }\n",
       "\n",
       "    .dataframe tbody tr th {\n",
       "        vertical-align: top;\n",
       "    }\n",
       "\n",
       "    .dataframe thead th {\n",
       "        text-align: right;\n",
       "    }\n",
       "</style>\n",
       "<table border=\"1\" class=\"dataframe\">\n",
       "  <thead>\n",
       "    <tr style=\"text-align: right;\">\n",
       "      <th></th>\n",
       "      <th>ram</th>\n",
       "      <th>storage</th>\n",
       "      <th>screen</th>\n",
       "      <th>final_price</th>\n",
       "    </tr>\n",
       "  </thead>\n",
       "  <tbody>\n",
       "    <tr>\n",
       "      <th>0</th>\n",
       "      <td>32</td>\n",
       "      <td>1000</td>\n",
       "      <td>15.6</td>\n",
       "      <td>1123.29</td>\n",
       "    </tr>\n",
       "    <tr>\n",
       "      <th>1</th>\n",
       "      <td>4</td>\n",
       "      <td>64</td>\n",
       "      <td>14.1</td>\n",
       "      <td>201.05</td>\n",
       "    </tr>\n",
       "    <tr>\n",
       "      <th>2</th>\n",
       "      <td>32</td>\n",
       "      <td>1000</td>\n",
       "      <td>14.0</td>\n",
       "      <td>997.74</td>\n",
       "    </tr>\n",
       "    <tr>\n",
       "      <th>3</th>\n",
       "      <td>16</td>\n",
       "      <td>512</td>\n",
       "      <td>13.3</td>\n",
       "      <td>1016.00</td>\n",
       "    </tr>\n",
       "    <tr>\n",
       "      <th>4</th>\n",
       "      <td>32</td>\n",
       "      <td>1000</td>\n",
       "      <td>16.0</td>\n",
       "      <td>2739.00</td>\n",
       "    </tr>\n",
       "  </tbody>\n",
       "</table>\n",
       "</div>"
      ],
      "text/plain": [
       "   ram  storage  screen  final_price\n",
       "0   32     1000    15.6      1123.29\n",
       "1    4       64    14.1       201.05\n",
       "2   32     1000    14.0       997.74\n",
       "3   16      512    13.3      1016.00\n",
       "4   32     1000    16.0      2739.00"
      ]
     },
     "execution_count": 1356,
     "metadata": {},
     "output_type": "execute_result"
    }
   ],
   "source": [
    "# Checking the train data\n",
    "df_train.head()"
   ]
  },
  {
   "cell_type": "code",
   "execution_count": 1357,
   "metadata": {},
   "outputs": [
    {
     "data": {
      "text/html": [
       "<div>\n",
       "<style scoped>\n",
       "    .dataframe tbody tr th:only-of-type {\n",
       "        vertical-align: middle;\n",
       "    }\n",
       "\n",
       "    .dataframe tbody tr th {\n",
       "        vertical-align: top;\n",
       "    }\n",
       "\n",
       "    .dataframe thead th {\n",
       "        text-align: right;\n",
       "    }\n",
       "</style>\n",
       "<table border=\"1\" class=\"dataframe\">\n",
       "  <thead>\n",
       "    <tr style=\"text-align: right;\">\n",
       "      <th></th>\n",
       "      <th>ram</th>\n",
       "      <th>storage</th>\n",
       "      <th>screen</th>\n",
       "      <th>final_price</th>\n",
       "    </tr>\n",
       "  </thead>\n",
       "  <tbody>\n",
       "    <tr>\n",
       "      <th>0</th>\n",
       "      <td>32</td>\n",
       "      <td>1000</td>\n",
       "      <td>16.0</td>\n",
       "      <td>2599.00</td>\n",
       "    </tr>\n",
       "    <tr>\n",
       "      <th>1</th>\n",
       "      <td>16</td>\n",
       "      <td>512</td>\n",
       "      <td>15.6</td>\n",
       "      <td>999.00</td>\n",
       "    </tr>\n",
       "    <tr>\n",
       "      <th>2</th>\n",
       "      <td>12</td>\n",
       "      <td>512</td>\n",
       "      <td>15.6</td>\n",
       "      <td>477.28</td>\n",
       "    </tr>\n",
       "    <tr>\n",
       "      <th>3</th>\n",
       "      <td>8</td>\n",
       "      <td>256</td>\n",
       "      <td>13.6</td>\n",
       "      <td>1519.00</td>\n",
       "    </tr>\n",
       "    <tr>\n",
       "      <th>4</th>\n",
       "      <td>8</td>\n",
       "      <td>512</td>\n",
       "      <td>15.6</td>\n",
       "      <td>402.99</td>\n",
       "    </tr>\n",
       "  </tbody>\n",
       "</table>\n",
       "</div>"
      ],
      "text/plain": [
       "   ram  storage  screen  final_price\n",
       "0   32     1000    16.0      2599.00\n",
       "1   16      512    15.6       999.00\n",
       "2   12      512    15.6       477.28\n",
       "3    8      256    13.6      1519.00\n",
       "4    8      512    15.6       402.99"
      ]
     },
     "execution_count": 1357,
     "metadata": {},
     "output_type": "execute_result"
    }
   ],
   "source": [
    "# Checking the validation data\n",
    "df_val.head()"
   ]
  },
  {
   "cell_type": "code",
   "execution_count": 1358,
   "metadata": {},
   "outputs": [
    {
     "data": {
      "text/html": [
       "<div>\n",
       "<style scoped>\n",
       "    .dataframe tbody tr th:only-of-type {\n",
       "        vertical-align: middle;\n",
       "    }\n",
       "\n",
       "    .dataframe tbody tr th {\n",
       "        vertical-align: top;\n",
       "    }\n",
       "\n",
       "    .dataframe thead th {\n",
       "        text-align: right;\n",
       "    }\n",
       "</style>\n",
       "<table border=\"1\" class=\"dataframe\">\n",
       "  <thead>\n",
       "    <tr style=\"text-align: right;\">\n",
       "      <th></th>\n",
       "      <th>ram</th>\n",
       "      <th>storage</th>\n",
       "      <th>screen</th>\n",
       "      <th>final_price</th>\n",
       "    </tr>\n",
       "  </thead>\n",
       "  <tbody>\n",
       "    <tr>\n",
       "      <th>0</th>\n",
       "      <td>32</td>\n",
       "      <td>1000</td>\n",
       "      <td>15.6</td>\n",
       "      <td>4805.65</td>\n",
       "    </tr>\n",
       "    <tr>\n",
       "      <th>1</th>\n",
       "      <td>16</td>\n",
       "      <td>512</td>\n",
       "      <td>13.0</td>\n",
       "      <td>2189.00</td>\n",
       "    </tr>\n",
       "    <tr>\n",
       "      <th>2</th>\n",
       "      <td>16</td>\n",
       "      <td>512</td>\n",
       "      <td>15.6</td>\n",
       "      <td>1349.00</td>\n",
       "    </tr>\n",
       "    <tr>\n",
       "      <th>3</th>\n",
       "      <td>16</td>\n",
       "      <td>512</td>\n",
       "      <td>15.0</td>\n",
       "      <td>2175.83</td>\n",
       "    </tr>\n",
       "    <tr>\n",
       "      <th>4</th>\n",
       "      <td>16</td>\n",
       "      <td>1000</td>\n",
       "      <td>15.6</td>\n",
       "      <td>1248.59</td>\n",
       "    </tr>\n",
       "  </tbody>\n",
       "</table>\n",
       "</div>"
      ],
      "text/plain": [
       "   ram  storage  screen  final_price\n",
       "0   32     1000    15.6      4805.65\n",
       "1   16      512    13.0      2189.00\n",
       "2   16      512    15.6      1349.00\n",
       "3   16      512    15.0      2175.83\n",
       "4   16     1000    15.6      1248.59"
      ]
     },
     "execution_count": 1358,
     "metadata": {},
     "output_type": "execute_result"
    }
   ],
   "source": [
    "# Checking the test data\n",
    "df_test.head()"
   ]
  },
  {
   "cell_type": "code",
   "execution_count": 1359,
   "metadata": {},
   "outputs": [
    {
     "data": {
      "text/plain": [
       "(1296, 432, 432)"
      ]
     },
     "execution_count": 1359,
     "metadata": {},
     "output_type": "execute_result"
    }
   ],
   "source": [
    "# checking the length of the train, val and test data\n",
    "len(df_train), len(df_val), len(df_test)"
   ]
  },
  {
   "cell_type": "code",
   "execution_count": 1360,
   "metadata": {},
   "outputs": [],
   "source": [
    "# applying the log transformation to the target variable\n",
    "y_train = np.log1p(df_train['final_price'].values)\n",
    "y_val = np.log1p(df_val['final_price'].values)\n",
    "y_test = np.log1p(df_test['final_price'].values)"
   ]
  },
  {
   "cell_type": "code",
   "execution_count": 1361,
   "metadata": {},
   "outputs": [],
   "source": [
    "# deleting the median_house_value column from the train, val and test data\n",
    "del df_train['final_price']\n",
    "del df_val['final_price']\n",
    "del df_test['final_price']"
   ]
  },
  {
   "cell_type": "markdown",
   "metadata": {},
   "source": [
    "_____"
   ]
  },
  {
   "cell_type": "markdown",
   "metadata": {},
   "source": [
    "### Question 1:"
   ]
  },
  {
   "cell_type": "markdown",
   "metadata": {},
   "source": [
    "There's one feature with missing values. What is it?\n",
    "- 'ram'\n",
    "- 'storage'\n",
    "- 'screen'\n",
    "- 'final_price'"
   ]
  },
  {
   "cell_type": "markdown",
   "metadata": {},
   "source": [
    "Answer: screen"
   ]
  },
  {
   "cell_type": "code",
   "execution_count": 1362,
   "metadata": {},
   "outputs": [
    {
     "data": {
      "text/plain": [
       "ram            0\n",
       "storage        0\n",
       "screen         4\n",
       "final_price    0\n",
       "dtype: int64"
      ]
     },
     "execution_count": 1362,
     "metadata": {},
     "output_type": "execute_result"
    }
   ],
   "source": [
    "# checking for missing values\n",
    "df.isnull().sum()"
   ]
  },
  {
   "cell_type": "markdown",
   "metadata": {},
   "source": [
    "_____"
   ]
  },
  {
   "cell_type": "markdown",
   "metadata": {},
   "source": [
    "### Question 2:"
   ]
  },
  {
   "cell_type": "markdown",
   "metadata": {},
   "source": [
    "What's the median (50% percentile) for variable 'population'?"
   ]
  },
  {
   "cell_type": "code",
   "execution_count": 1363,
   "metadata": {},
   "outputs": [
    {
     "name": "stdout",
     "output_type": "stream",
     "text": [
      "Median (50% percentile) for 'ram': count    2160.000000\n",
      "mean       15.413889\n",
      "std         9.867815\n",
      "min         4.000000\n",
      "25%         8.000000\n",
      "50%        16.000000\n",
      "75%        16.000000\n",
      "max       128.000000\n",
      "Name: ram, dtype: float64\n"
     ]
    }
   ],
   "source": [
    "# calculating the descriptive statistics of the numerical columns\n",
    "median_ram = summary = df['ram'].describe()\n",
    "median_raam = summary['50%']\n",
    "print(\"Median (50% percentile) for 'ram':\", median_ram)"
   ]
  },
  {
   "cell_type": "markdown",
   "metadata": {},
   "source": [
    "_____"
   ]
  },
  {
   "cell_type": "markdown",
   "metadata": {},
   "source": [
    "###  Question 3:"
   ]
  },
  {
   "cell_type": "markdown",
   "metadata": {},
   "source": [
    "\n",
    "* We need to deal with missing values for the column from Q1.\n",
    "* We have two options: fill it with 0 or with the mean of this variable.\n",
    "* Try both options. For each, train a linear regression model without regularization using the code from the lessons.\n",
    "* For computing the mean, use the training only!\n",
    "* Use the validation dataset to evaluate the models and compare the RMSE of each option.\n",
    "* Round the RMSE scores to 2 decimal digits using round(score, 2)\n",
    "* Which option gives better RMSE?"
   ]
  },
  {
   "cell_type": "markdown",
   "metadata": {},
   "source": [
    "____"
   ]
  },
  {
   "cell_type": "code",
   "execution_count": 1364,
   "metadata": {},
   "outputs": [],
   "source": [
    "# prepare a function to fill the missing values in the numerical columns\n",
    "def filling_missing_value_0(df):\n",
    "    df = df.copy()\n",
    "    df = df.fillna(0)\n",
    "    X = df.values\n",
    "    return X"
   ]
  },
  {
   "cell_type": "code",
   "execution_count": 1365,
   "metadata": {},
   "outputs": [],
   "source": [
    "# prepare a function to fill the missing values in the numerical columns\n",
    "def filling_missing_value_mean(df):\n",
    "    df = df.copy()\n",
    "    df = df.fillna(df.mean())\n",
    "    X = df.values\n",
    "    return X"
   ]
  },
  {
   "cell_type": "markdown",
   "metadata": {},
   "source": [
    "____"
   ]
  },
  {
   "cell_type": "markdown",
   "metadata": {},
   "source": [
    "#### 3.1 Filling missing values with mean: x_train. "
   ]
  },
  {
   "cell_type": "code",
   "execution_count": 1366,
   "metadata": {},
   "outputs": [
    {
     "data": {
      "text/plain": [
       "ram        0\n",
       "storage    0\n",
       "screen     3\n",
       "dtype: int64"
      ]
     },
     "execution_count": 1366,
     "metadata": {},
     "output_type": "execute_result"
    }
   ],
   "source": [
    "# checking the missing values in the train data\n",
    "df_train.isnull().sum()"
   ]
  },
  {
   "cell_type": "code",
   "execution_count": 1367,
   "metadata": {},
   "outputs": [
    {
     "data": {
      "text/plain": [
       "(1296, 3)"
      ]
     },
     "execution_count": 1367,
     "metadata": {},
     "output_type": "execute_result"
    }
   ],
   "source": [
    "# applying the filling_missing_value_mean function to the train, val and test data\n",
    "x_train = filling_missing_value_mean(df_train)\n",
    "x_train.shape"
   ]
  },
  {
   "cell_type": "code",
   "execution_count": 1368,
   "metadata": {},
   "outputs": [],
   "source": [
    "# linaer regression model\n",
    "def train_linear_regression(X, y):\n",
    "    ones = np.ones(X.shape[0])\n",
    "    X = np.column_stack([ones, X])\n",
    "\n",
    "    XTX = X.T.dot(X)\n",
    "    XTX_inv = np.linalg.inv(XTX)\n",
    "    w_full = XTX_inv.dot(X.T).dot(y)\n",
    "\n",
    "    return w_full[0], w_full[1:]"
   ]
  },
  {
   "cell_type": "code",
   "execution_count": 1369,
   "metadata": {},
   "outputs": [
    {
     "data": {
      "text/plain": [
       "(6.855566544142249, array([ 0.02650252,  0.00066643, -0.04534341]))"
      ]
     },
     "execution_count": 1369,
     "metadata": {},
     "output_type": "execute_result"
    }
   ],
   "source": [
    "# calling the train_linear_regression function\n",
    "w0, w = train_linear_regression(x_train, y_train)\n",
    "\n",
    "w0, w"
   ]
  },
  {
   "cell_type": "code",
   "execution_count": 1370,
   "metadata": {},
   "outputs": [
    {
     "data": {
      "text/plain": [
       "list[array([7.662716  , 6.36488586, 7.73526545, ..., 6.91345982, 6.98600927,\n",
       "       6.98600927]), array([7.024907  , 5.30851519, 6.90649448, ..., 6.96602419, 7.42177579,\n",
       "       6.96318999])]"
      ]
     },
     "execution_count": 1370,
     "metadata": {},
     "output_type": "execute_result"
    }
   ],
   "source": [
    "# calling the pred function y = w0 + w1x1 + w2x2 + w3x3 + w4x4 + w5x5\n",
    "y_pred = w0 + x_train.dot(w)\n",
    "list[y_pred, y_train]"
   ]
  },
  {
   "cell_type": "code",
   "execution_count": 1371,
   "metadata": {},
   "outputs": [
    {
     "data": {
      "text/plain": [
       "<AxesSubplot:ylabel='Count'>"
      ]
     },
     "execution_count": 1371,
     "metadata": {},
     "output_type": "execute_result"
    },
    {
     "data": {
      "image/png": "[encoded data removed]",
      "text/plain": [
       "<Figure size 640x480 with 1 Axes>"
      ]
     },
     "metadata": {},
     "output_type": "display_data"
    }
   ],
   "source": [
    "# checking the outcome of the y-pred vs the y_train\n",
    "sns.histplot(y_pred, color='blue', alpha=0.5, bins=50)\n",
    "sns.histplot(y_train, color='red', alpha=0.5, bins=50)"
   ]
  },
  {
   "cell_type": "code",
   "execution_count": 1372,
   "metadata": {},
   "outputs": [],
   "source": [
    "# writing a function to calculate the RMSE\n",
    "def rmse(y, y_pred):\n",
    "    error = y_pred - y\n",
    "    mse = (error ** 2).mean()\n",
    "    return np.sqrt(mse)"
   ]
  },
  {
   "cell_type": "code",
   "execution_count": 1373,
   "metadata": {},
   "outputs": [
    {
     "data": {
      "text/plain": [
       "0.45"
      ]
     },
     "execution_count": 1373,
     "metadata": {},
     "output_type": "execute_result"
    }
   ],
   "source": [
    "# calling the rmse function\n",
    "rmse(y_train, y_pred).round(2)"
   ]
  },
  {
   "cell_type": "markdown",
   "metadata": {},
   "source": [
    "#### 3.2 Filling missing values with xero: x_train"
   ]
  },
  {
   "cell_type": "code",
   "execution_count": 1374,
   "metadata": {},
   "outputs": [
    {
     "data": {
      "text/plain": [
       "ram        0\n",
       "storage    0\n",
       "screen     3\n",
       "dtype: int64"
      ]
     },
     "execution_count": 1374,
     "metadata": {},
     "output_type": "execute_result"
    }
   ],
   "source": [
    "# checking the missing values in the x_val data\n",
    "df_train.isnull().sum()"
   ]
  },
  {
   "cell_type": "code",
   "execution_count": 1375,
   "metadata": {},
   "outputs": [
    {
     "data": {
      "text/plain": [
       "(1296, 3)"
      ]
     },
     "execution_count": 1375,
     "metadata": {},
     "output_type": "execute_result"
    }
   ],
   "source": [
    "# applying the filling_missing_value_0 function to the train, val and test data\n",
    "x_train = filling_missing_value_0(df_train)\n",
    "x_train.shape"
   ]
  },
  {
   "cell_type": "code",
   "execution_count": 1376,
   "metadata": {},
   "outputs": [
    {
     "data": {
      "text/plain": [
       "array([7.662716  , 6.36488586, 7.73526545, ..., 6.91345982, 6.98600927,\n",
       "       6.98600927])"
      ]
     },
     "execution_count": 1376,
     "metadata": {},
     "output_type": "execute_result"
    }
   ],
   "source": [
    "# calling the pred function y = w0 + w1x1 + w2x2 + w3x3 + w4x4 + w5x5\n",
    "y_pred = w0 + x_train.dot(w)\n",
    "y_pred"
   ]
  },
  {
   "cell_type": "code",
   "execution_count": 1377,
   "metadata": {},
   "outputs": [
    {
     "data": {
      "text/plain": [
       "<AxesSubplot:ylabel='Count'>"
      ]
     },
     "execution_count": 1377,
     "metadata": {},
     "output_type": "execute_result"
    },
    {
     "data": {
      "image/png": "[encoded data removed]",
      "text/plain": [
       "<Figure size 640x480 with 1 Axes>"
      ]
     },
     "metadata": {},
     "output_type": "display_data"
    }
   ],
   "source": [
    "# checking the outcome of the y-pred vs the y_train\n",
    "sns.histplot(y_pred, color='blue', alpha=0.5, bins=50)\n",
    "sns.histplot(y_train, color='red', alpha=0.5, bins=50)"
   ]
  },
  {
   "cell_type": "code",
   "execution_count": 1378,
   "metadata": {},
   "outputs": [],
   "source": [
    "# writing a function to calculate the RMSE\n",
    "def rmse(y, y_pred):\n",
    "    error = y_pred - y\n",
    "    mse = (error ** 2).mean()\n",
    "    return np.sqrt(mse)"
   ]
  },
  {
   "cell_type": "code",
   "execution_count": 1379,
   "metadata": {},
   "outputs": [
    {
     "data": {
      "text/plain": [
       "0.45"
      ]
     },
     "execution_count": 1379,
     "metadata": {},
     "output_type": "execute_result"
    }
   ],
   "source": [
    "# calling the rmse function\n",
    "rmse(y_train, y_pred).round(2)"
   ]
  },
  {
   "cell_type": "markdown",
   "metadata": {},
   "source": [
    "#### 3.3 RMSE on validation data: Filling missing values with mean"
   ]
  },
  {
   "cell_type": "code",
   "execution_count": 1380,
   "metadata": {},
   "outputs": [
    {
     "data": {
      "text/plain": [
       "ram        0\n",
       "storage    0\n",
       "screen     1\n",
       "dtype: int64"
      ]
     },
     "execution_count": 1380,
     "metadata": {},
     "output_type": "execute_result"
    }
   ],
   "source": [
    "# checking the missing values in the x_val data\n",
    "df_val.isnull().sum()"
   ]
  },
  {
   "cell_type": "code",
   "execution_count": 1381,
   "metadata": {},
   "outputs": [
    {
     "data": {
      "text/plain": [
       "array([[  32. , 1000. ,   16. ],\n",
       "       [  16. ,  512. ,   15.6],\n",
       "       [  12. ,  512. ,   15.6],\n",
       "       ...,\n",
       "       [   8. ,  512. ,   14. ],\n",
       "       [  16. ,  512. ,   14. ],\n",
       "       [   4. ,   64. ,   14. ]])"
      ]
     },
     "execution_count": 1381,
     "metadata": {},
     "output_type": "execute_result"
    }
   ],
   "source": [
    "# finding the missing values in the x_val data\n",
    "x_val = filling_missing_value_mean(df_val)\n",
    "x_val"
   ]
  },
  {
   "cell_type": "code",
   "execution_count": 1382,
   "metadata": {},
   "outputs": [],
   "source": [
    "# mutlipling the X_val with the w values\n",
    "y_pred = w0 + x_val.dot(w)"
   ]
  },
  {
   "cell_type": "code",
   "execution_count": 1383,
   "metadata": {},
   "outputs": [
    {
     "data": {
      "text/plain": [
       "0.43117372937299364"
      ]
     },
     "execution_count": 1383,
     "metadata": {},
     "output_type": "execute_result"
    }
   ],
   "source": [
    "# calling the rmse function\n",
    "rmse(y_val, y_pred)"
   ]
  },
  {
   "cell_type": "markdown",
   "metadata": {},
   "source": [
    "#### 3.4 RMSE on validation data: Filling missing values with zero"
   ]
  },
  {
   "cell_type": "code",
   "execution_count": 1384,
   "metadata": {},
   "outputs": [
    {
     "data": {
      "text/plain": [
       "ram        0\n",
       "storage    0\n",
       "screen     1\n",
       "dtype: int64"
      ]
     },
     "execution_count": 1384,
     "metadata": {},
     "output_type": "execute_result"
    }
   ],
   "source": [
    "# checking the missing values in the x_val data\n",
    "df_val.isnull().sum()\n"
   ]
  },
  {
   "cell_type": "code",
   "execution_count": 1385,
   "metadata": {},
   "outputs": [
    {
     "data": {
      "text/plain": [
       "array([[  32. , 1000. ,   16. ],\n",
       "       [  16. ,  512. ,   15.6],\n",
       "       [  12. ,  512. ,   15.6],\n",
       "       ...,\n",
       "       [   8. ,  512. ,   14. ],\n",
       "       [  16. ,  512. ,   14. ],\n",
       "       [   4. ,   64. ,   14. ]])"
      ]
     },
     "execution_count": 1385,
     "metadata": {},
     "output_type": "execute_result"
    }
   ],
   "source": [
    "# finding the missing values in the x_val data\n",
    "x_val = filling_missing_value_0(df_val)\n",
    "x_val"
   ]
  },
  {
   "cell_type": "code",
   "execution_count": 1386,
   "metadata": {},
   "outputs": [],
   "source": [
    "# mutlipling the X_val with the w values\n",
    "y_pred = w0 + x_val.dot(w)"
   ]
  },
  {
   "cell_type": "code",
   "execution_count": 1387,
   "metadata": {},
   "outputs": [
    {
     "data": {
      "text/plain": [
       "0.4290504340343253"
      ]
     },
     "execution_count": 1387,
     "metadata": {},
     "output_type": "execute_result"
    }
   ],
   "source": [
    "# calling the rmse function\n",
    "rmse(y_val, y_pred)"
   ]
  },
  {
   "cell_type": "markdown",
   "metadata": {},
   "source": [
    "### Question 4: "
   ]
  },
  {
   "cell_type": "markdown",
   "metadata": {},
   "source": [
    "- Now let's train a regularized linear regression.\n",
    "- For this question, fill the NAs with 0.\n",
    "- Try different values of r from this list: [0, 0.01, 0.1, 1, 5, 10, 100].\n",
    "- Use RMSE to evaluate the model on the validation dataset.\n",
    "- Round the RMSE scores to 2 decimal digits.\n",
    "- Which r gives the best RMSE?\n"
   ]
  },
  {
   "cell_type": "code",
   "execution_count": 1388,
   "metadata": {},
   "outputs": [
    {
     "data": {
      "text/plain": [
       "ram        0\n",
       "storage    0\n",
       "screen     3\n",
       "dtype: int64"
      ]
     },
     "execution_count": 1388,
     "metadata": {},
     "output_type": "execute_result"
    }
   ],
   "source": [
    "# calling the df_train data, and checking the missing values\n",
    "df_train.isnull().sum()"
   ]
  },
  {
   "cell_type": "code",
   "execution_count": 1389,
   "metadata": {},
   "outputs": [],
   "source": [
    "# reguralization model for the linear regression\n",
    "def train_linear_regression_reg(X, y, r=0.001):\n",
    "    ones = np.ones(X.shape[0])\n",
    "    X = np.column_stack([ones, X])\n",
    "\n",
    "    XTX = X.T.dot(X)\n",
    "    XTX = XTX + r * np.eye(XTX.shape[0])\n",
    "\n",
    "    XTX_inv = np.linalg.inv(XTX)\n",
    "    w_full = XTX_inv.dot(X.T).dot(y)\n",
    "\n",
    "    return w_full[0], w_full[1:]"
   ]
  },
  {
   "cell_type": "code",
   "execution_count": 1390,
   "metadata": {},
   "outputs": [
    {
     "name": "stdout",
     "output_type": "stream",
     "text": [
      "0 : 6.727163706117667 : 0.4288635315474385\n",
      "0.01 : 6.721004333265395 : 0.4288516360534052\n",
      "0.1 : 6.666075503833033 : 0.4287756009707549\n",
      "1 : 6.162616499464744 : 0.4305932989742992\n",
      "5 : 4.61608617649895 : 0.46320952575801033\n",
      "10 : 3.516754720793881 : 0.5075657769236759\n",
      "100 : 0.6849263362656987 : 0.6735026061726094\n"
     ]
    }
   ],
   "source": [
    "# calling the train_linear_regression_reg function\n",
    "for r in [0, 0.01, 0.1, 1, 5, 10,100]:\n",
    "    x_train = filling_missing_value_0(df_train)\n",
    "    w0, w = train_linear_regression_reg(x_train, y_train, r=r)\n",
    "\n",
    "    x_val = filling_missing_value_0(df_val)\n",
    "    y_pred = w0 + x_val.dot(w)\n",
    "    score = rmse(y_val, y_pred)\n",
    "\n",
    "    print(r,':', w0,':', score)"
   ]
  },
  {
   "cell_type": "code",
   "execution_count": 1391,
   "metadata": {},
   "outputs": [
    {
     "name": "stdout",
     "output_type": "stream",
     "text": [
      "0.43\n"
     ]
    }
   ],
   "source": [
    "# selecting the best r value\n",
    "r = 0.1\n",
    "x_train = filling_missing_value_0(df_train)\n",
    "w0, w = train_linear_regression_reg(x_train, y_train, r=r)\n",
    "\n",
    "x_val = filling_missing_value_0(df_val)\n",
    "y_pred = w0 + x_val.dot(w)\n",
    "score = rmse(y_val, y_pred).round(2)\n",
    "\n",
    "print(score)"
   ]
  },
  {
   "cell_type": "markdown",
   "metadata": {},
   "source": [
    "### Question 5"
   ]
  },
  {
   "cell_type": "markdown",
   "metadata": {},
   "source": [
    "- We used seed 42 for splitting the data. Let's find out how selecting the seed influences our score.\n",
    "- Try different seed values: [0, 1, 2, 3, 4, 5, 6, 7, 8, 9].\n",
    "- For each seed, do the train/validation/test split with 60%/20%/20% distribution.\n",
    "- Fill the missing values with 0 and train a model without regularization.\n",
    "- For each seed, evaluate the model on the validation dataset and collect the RMSE scores.\n",
    "- What's the standard deviation of all the scores? To compute the standard deviation, use np.std.\n",
    "- Round the result to 3 decimal digits (round(std, 3))"
   ]
  },
  {
   "cell_type": "code",
   "execution_count": 1392,
   "metadata": {},
   "outputs": [],
   "source": [
    "# setting up a function to prepare the data\n",
    "\n",
    "def prepare_data(df, seed_value):\n",
    "    \n",
    "    print(f\"Seed value: {seed_value }\")\n",
    "    print()\n",
    "    \n",
    "    # 1. Check the count of the dataset\n",
    "    n = len(df)\n",
    "\n",
    "    # 2. Create numpy array of indices\n",
    "    idx = np.arange(n)\n",
    "\n",
    "    # 3. Set the random seed and shuffle the indices\n",
    "    np.random.seed(seed_value)\n",
    "    np.random.shuffle(idx)\n",
    "\n",
    "    # 4. Split the data into train, validation, and test sets\n",
    "    n_val = int(n * 0.2)  # 20% of the dataset\n",
    "    n_test = int(n * 0.2)  # 20% of the dataset\n",
    "    n_train = n - n_val - n_test  # 60% of the dataset\n",
    "\n",
    "\n",
    "    # 5. Apply the shuffled indices to split the dataset\n",
    "    df_train = df.iloc[idx[:n_train]]\n",
    "    df_val = df.iloc[idx[n_train:n_train + n_val]]\n",
    "    df_test = df.iloc[idx[n_train + n_val:]]\n",
    "\n",
    "    # 6. Reset the indices of the train, val, and test sets\n",
    "    df_train = df_train.reset_index(drop=True)\n",
    "    df_val = df_val.reset_index(drop=True)\n",
    "    df_test = df_test.reset_index(drop=True)\n",
    "\n",
    "    # 7. Apply log transformation to the target variable\n",
    "    y_train = np.log1p(df_train['final_price'].values)\n",
    "    y_val = np.log1p(df_val['final_price'].values)\n",
    "    y_test = np.log1p(df_test['final_price'].values)\n",
    "\n",
    "    # 8. Delete the target column ('final_price') from the data\n",
    "    del df_train['final_price']\n",
    "    del df_val['final_price']\n",
    "    del df_test['final_price']\n",
    "    \n",
    "    \n",
    "\n",
    "    return df_train, df_val, df_test, y_train, y_val, y_test"
   ]
  },
  {
   "cell_type": "markdown",
   "metadata": {},
   "source": [
    "#### 5.1 control data "
   ]
  },
  {
   "cell_type": "code",
   "execution_count": 1393,
   "metadata": {},
   "outputs": [
    {
     "name": "stdout",
     "output_type": "stream",
     "text": [
      "Seed value: 42\n",
      "\n",
      "The x_train data shape (1296, 3)\n",
      "\n",
      "The y_pred values: [7.65939743 6.35684654 7.71118678 ... 6.91815563 6.96994498 6.96994498]\n",
      "\n",
      "The rmse value: 0.45\n"
     ]
    },
    {
     "data": {
      "text/plain": [
       "<AxesSubplot:ylabel='Count'>"
      ]
     },
     "execution_count": 1393,
     "metadata": {},
     "output_type": "execute_result"
    },
    {
     "data": {
      "image/png": "[encoded data removed]",
      "text/plain": [
       "<Figure size 640x480 with 1 Axes>"
      ]
     },
     "metadata": {},
     "output_type": "display_data"
    }
   ],
   "source": [
    "\n",
    "# splitting the data into train, val and test data, and setting the random seed\n",
    "df_train, df_val, df_test, y_train, y_val, y_test = prepare_data(df, seed_value=42)\n",
    "\n",
    "# applying the filling_missing_value_o function to the data, turn it into array, and checking the shape\n",
    "x_train = filling_missing_value_mean(df_train)\n",
    "print('The x_train data shape',x_train.shape)\n",
    "print()\n",
    "\n",
    "# calling the pred function y = w0 + w1x1 + w2x2 + w3x3 + w4x4 + w5x5\n",
    "y_pred = w0 + x_train.dot(w)\n",
    "print('The y_pred values:', y_pred)\n",
    "print()\n",
    "\n",
    "# calling the rmse function\n",
    "rmse(y_train, y_pred).round(2)\n",
    "print('The rmse value:', rmse(y_train, y_pred).round(2))\n",
    "\n",
    "# checking the outcome of the y-pred vs the y_train\n",
    "sns.histplot(y_pred, color='blue', alpha=0.5, bins=50)\n",
    "sns.histplot(y_train, color='red', alpha=0.5, bins=50)"
   ]
  },
  {
   "cell_type": "code",
   "execution_count": 1394,
   "metadata": {},
   "outputs": [
    {
     "name": "stdout",
     "output_type": "stream",
     "text": [
      "The x_val data shape: (432, 3)\n",
      "The rmse value: 0.4305555712794563\n"
     ]
    }
   ],
   "source": [
    "# RMSE on validation data: Filling missing values with zero\n",
    "\n",
    "# finding the missing values in the x_val data\n",
    "x_val = filling_missing_value_mean(df_val)\n",
    "print('The x_val data shape:', x_val.shape)\n",
    "\n",
    "# mutlipling the X_val with the w values\n",
    "y_pred = w0 + x_val.dot(w)\n",
    "\n",
    "# calling the rmse function\n",
    "rmse(y_val, y_pred)\n",
    "print('The rmse value:', rmse(y_val, y_pred))"
   ]
  },
  {
   "cell_type": "code",
   "execution_count": 1395,
   "metadata": {},
   "outputs": [
    {
     "ename": "NameError",
     "evalue": "name '____' is not defined",
     "output_type": "error",
     "traceback": [
      "\u001b[0;31m---------------------------------------------------------------------------\u001b[0m",
      "\u001b[0;31mNameError\u001b[0m                                 Traceback (most recent call last)",
      "\u001b[0;32m/var/folders/v9/v9j8bf6j2r5cr97thvfgxxyh0000gn/T/ipykernel_65580/2104705257.py\u001b[0m in \u001b[0;36m<module>\u001b[0;34m\u001b[0m\n\u001b[0;32m----> 1\u001b[0;31m \u001b[0m____\u001b[0m\u001b[0;34m\u001b[0m\u001b[0;34m\u001b[0m\u001b[0m\n\u001b[0m",
      "\u001b[0;31mNameError\u001b[0m: name '____' is not defined"
     ]
    }
   ],
   "source": [
    "____"
   ]
  },
  {
   "cell_type": "code",
   "execution_count": null,
   "metadata": {},
   "outputs": [],
   "source": []
  },
  {
   "cell_type": "markdown",
   "metadata": {},
   "source": [
    "#### 5.1 Dataset split with seed 0"
   ]
  },
  {
   "cell_type": "code",
   "execution_count": 1348,
   "metadata": {},
   "outputs": [
    {
     "name": "stdout",
     "output_type": "stream",
     "text": [
      "Seed value: 0\n",
      "\n",
      "The x_train data shape (1296, 3)\n",
      "\n",
      "The y_pred values: [6.82135851 6.9767568  7.58797119 ... 7.65110495 7.71052496 6.9767568 ]\n",
      "\n",
      "The rmse value: 0.45\n"
     ]
    },
    {
     "data": {
      "text/plain": [
       "<AxesSubplot:ylabel='Count'>"
      ]
     },
     "execution_count": 1348,
     "metadata": {},
     "output_type": "execute_result"
    },
    {
     "data": {
      "image/png": "[encoded data removed]",
      "text/plain": [
       "<Figure size 640x480 with 1 Axes>"
      ]
     },
     "metadata": {},
     "output_type": "display_data"
    }
   ],
   "source": [
    "\n",
    "# splitting the data into train, val and test data, and setting the random seed\n",
    "df_train, df_val, df_test, y_train, y_val, y_test = prepare_data(df, seed_value=0)\n",
    "\n",
    "\n",
    "# applying the filling_missing_value_o function to the data, turn it into array, and checking the shape\n",
    "x_train= filling_missing_value_mean(df_train)\n",
    "print('The x_train data shape',x_train.shape)\n",
    "print()\n",
    "\n",
    "# calling the pred function y = w0 + w1x1 + w2x2 + w3x3 + w4x4 + w5x5\n",
    "y_pred = w0 + x_train.dot(w)\n",
    "print('The y_pred values:', y_pred)\n",
    "print()\n",
    "\n",
    "\n",
    "# calling the rmse function\n",
    "rmse(y_train, y_pred).round(2)\n",
    "print('The rmse value:', rmse(y_train, y_pred).round(2))\n",
    "\n",
    "# checking the outcome of the y-pred vs the y_train\n",
    "sns.histplot(y_pred, color='blue', alpha=0.5, bins=50)\n",
    "sns.histplot(y_train, color='red', alpha=0.5, bins=50)"
   ]
  },
  {
   "cell_type": "code",
   "execution_count": 1334,
   "metadata": {},
   "outputs": [
    {
     "name": "stdout",
     "output_type": "stream",
     "text": [
      "The rmse value: 0.42961039365804055\n"
     ]
    }
   ],
   "source": [
    "# RMSE on validation data: Filling missing values with zero\n",
    "\n",
    "# finding the missing values in the x_val data\n",
    "x_val = filling_missing_value_mean(df_val)\n",
    "\n",
    "\n",
    "# mutlipling the X_val with the w values\n",
    "y_pred = w0 + x_val.dot(w)\n",
    "\n",
    "\n",
    "# calling the rmse function\n",
    "rmse(y_val, y_pred)\n",
    "print('The rmse value:', rmse(y_val, y_pred))"
   ]
  },
  {
   "cell_type": "markdown",
   "metadata": {},
   "source": [
    "#### 5.1 Dataset split with seed 1"
   ]
  },
  {
   "cell_type": "code",
   "execution_count": 1338,
   "metadata": {},
   "outputs": [
    {
     "name": "stdout",
     "output_type": "stream",
     "text": [
      "Seed value: 1\n",
      "The x_train data shape (1296, 3)\n",
      "\n",
      "The y_pred values: [7.69566995 7.2671918  6.9173368  ... 6.72538022 6.54184973 7.65110495]\n",
      "\n",
      "The rmse value: 0.44\n"
     ]
    },
    {
     "data": {
      "text/plain": [
       "<AxesSubplot:ylabel='Count'>"
      ]
     },
     "execution_count": 1338,
     "metadata": {},
     "output_type": "execute_result"
    },
    {
     "data": {
      "image/png": "[encoded data removed]",
      "text/plain": [
       "<Figure size 640x480 with 1 Axes>"
      ]
     },
     "metadata": {},
     "output_type": "display_data"
    }
   ],
   "source": [
    "\n",
    "# splitting the data into train, val and test data, and setting the random seed\n",
    "df_train, df_val, df_test, y_train, y_val, y_test = prepare_data(df, seed_value=1)\n",
    "\n",
    "\n",
    "# applying the filling_missing_value_o function to the data, turn it into array, and checking the shape\n",
    "x_train = filling_missing_value_mean(df_train)\n",
    "print('The x_train data shape',x_train.shape)\n",
    "print()\n",
    "\n",
    "# calling the pred function y = w0 + w1x1 + w2x2 + w3x3 + w4x4 + w5x5\n",
    "y_pred = w0 + x_train.dot(w)\n",
    "print('The y_pred values:', y_pred)\n",
    "print()\n",
    "\n",
    "\n",
    "# calling the rmse function\n",
    "rmse(y_train, y_pred).round(2)\n",
    "print('The rmse value:', rmse(y_train, y_pred).round(2))\n",
    "\n",
    "# checking the outcome of the y-pred vs the y_train\n",
    "sns.histplot(y_pred, color='blue', alpha=0.5, bins=50)\n",
    "sns.histplot(y_train, color='red', alpha=0.5, bins=50)"
   ]
  },
  {
   "cell_type": "code",
   "execution_count": 1304,
   "metadata": {},
   "outputs": [
    {
     "name": "stdout",
     "output_type": "stream",
     "text": [
      "The x_val data: [[  16.   512.    14. ]\n",
      " [  16.   512.    17.3]\n",
      " [  16.  1000.    14. ]\n",
      " ...\n",
      " [  16.   512.    15.6]\n",
      " [  16.  1000.    16.1]\n",
      " [   8.   256.    13.6]]\n",
      "The rmse value: 0.45060004163939704\n"
     ]
    }
   ],
   "source": [
    "# RMSE on validation data: Filling missing values with zero\n",
    "\n",
    "# finding the missing values in the x_val data\n",
    "x_val = filling_missing_value_mean(df_val)\n",
    "print('The x_val data:', x_val)\n",
    "\n",
    "\n",
    "# mutlipling the X_val with the w values\n",
    "y_pred = w0 + x_val.dot(w)\n",
    "\n",
    "\n",
    "# calling the rmse function\n",
    "rmse(y_val, y_pred)\n",
    "print('The rmse value:', rmse(y_val, y_pred))"
   ]
  },
  {
   "cell_type": "markdown",
   "metadata": {},
   "source": [
    "#### 5.1 Dataset split with seed 2"
   ]
  },
  {
   "cell_type": "code",
   "execution_count": 1305,
   "metadata": {},
   "outputs": [
    {
     "name": "stdout",
     "output_type": "stream",
     "text": [
      "Seed value: 2\n",
      "The count of the dataset: 2160\n",
      "\n",
      "The numpy array of the dataset indices: [   0    1    2 ... 2157 2158 2159]\n",
      "\n",
      "Validation data: 432\n",
      "Test data: 432\n",
      "Training data: 1296\n",
      "Total data: 2160\n",
      "\n",
      "The x_train data shape (1296, 3)\n",
      "\n",
      "The y_pred values: [7.64645009 6.9246293  6.71772064 ... 6.5396425  6.53961637 7.64645009]\n",
      "\n",
      "The rmse value: 0.44\n"
     ]
    },
    {
     "data": {
      "text/plain": [
       "<AxesSubplot:ylabel='Count'>"
      ]
     },
     "execution_count": 1305,
     "metadata": {},
     "output_type": "execute_result"
    },
    {
     "data": {
      "image/png": "[encoded data removed]",
      "text/plain": [
       "<Figure size 640x480 with 1 Axes>"
      ]
     },
     "metadata": {},
     "output_type": "display_data"
    }
   ],
   "source": [
    "\n",
    "# splitting the data into train, val and test data, and setting the random seed\n",
    "df_train, df_val, df_test, y_train, y_val, y_test = prepare_data(df, seed_value=2)\n",
    "\n",
    "\n",
    "# applying the filling_missing_value_o function to the data, turn it into array, and checking the shape\n",
    "x_train = filling_missing_value_mean(df_train)\n",
    "print('The x_train data shape',x_train.shape)\n",
    "print()\n",
    "\n",
    "# calling the pred function y = w0 + w1x1 + w2x2 + w3x3 + w4x4 + w5x5\n",
    "y_pred = w0 + x_train.dot(w)\n",
    "print('The y_pred values:', y_pred)\n",
    "print()\n",
    "\n",
    "\n",
    "# calling the rmse function\n",
    "rmse(y_train, y_pred).round(2)\n",
    "print('The rmse value:', rmse(y_train, y_pred).round(2))\n",
    "\n",
    "# checking the outcome of the y-pred vs the y_train\n",
    "sns.histplot(y_pred, color='blue', alpha=0.5, bins=50)\n",
    "sns.histplot(y_train, color='red', alpha=0.5, bins=50)"
   ]
  },
  {
   "cell_type": "code",
   "execution_count": 1306,
   "metadata": {},
   "outputs": [
    {
     "name": "stdout",
     "output_type": "stream",
     "text": [
      "The x_val data: [[  32.  1000.    17. ]\n",
      " [   8.   512.    15.3]\n",
      " [   8.   512.    15.6]\n",
      " ...\n",
      " [   8.   256.    15.6]\n",
      " [   8.   256.    15.6]\n",
      " [  32.  1000.    17. ]]\n",
      "The rmse value: 0.44713293356829825\n"
     ]
    }
   ],
   "source": [
    "# RMSE on validation data: Filling missing values with zero\n",
    "\n",
    "# finding the missing values in the x_val data\n",
    "x_val = filling_missing_value_mean(df_val)\n",
    "print('The x_val data:', x_val)\n",
    "\n",
    "\n",
    "# mutlipling the X_val with the w values\n",
    "y_pred = w0 + x_val.dot(w)\n",
    "\n",
    "\n",
    "# calling the rmse function\n",
    "rmse(y_val, y_pred)\n",
    "print('The rmse value:', rmse(y_val, y_pred))"
   ]
  },
  {
   "cell_type": "markdown",
   "metadata": {},
   "source": [
    "#### 5.1 Dataset split with seed 3"
   ]
  },
  {
   "cell_type": "code",
   "execution_count": 1307,
   "metadata": {},
   "outputs": [
    {
     "name": "stdout",
     "output_type": "stream",
     "text": [
      "Seed value: 3\n",
      "The count of the dataset: 2160\n",
      "\n",
      "The numpy array of the dataset indices: [   0    1    2 ... 2157 2158 2159]\n",
      "\n",
      "Validation data: 432\n",
      "Test data: 432\n",
      "Training data: 1296\n",
      "Total data: 2160\n",
      "\n",
      "The x_train data shape (1296, 3)\n",
      "\n",
      "The y_pred values: [6.75979948 6.91815563 6.91815563 ... 6.61408968 7.65939743 6.61408968]\n",
      "\n",
      "The rmse value: 0.44\n"
     ]
    },
    {
     "data": {
      "text/plain": [
       "<AxesSubplot:ylabel='Count'>"
      ]
     },
     "execution_count": 1307,
     "metadata": {},
     "output_type": "execute_result"
    },
    {
     "data": {
      "image/png": "[encoded data removed]",
      "text/plain": [
       "<Figure size 640x480 with 1 Axes>"
      ]
     },
     "metadata": {},
     "output_type": "display_data"
    }
   ],
   "source": [
    "\n",
    "# splitting the data into train, val and test data, and setting the random seed\n",
    "df_train, df_val, df_test, y_train, y_val, y_test = prepare_data(df, seed_value=3)\n",
    "\n",
    "\n",
    "# applying the filling_missing_value_o function to the data, turn it into array, and checking the shape\n",
    "x_train = filling_missing_value_mean(df_train)\n",
    "print('The x_train data shape',x_train.shape)\n",
    "print()\n",
    "\n",
    "# calling the pred function y = w0 + w1x1 + w2x2 + w3x3 + w4x4 + w5x5\n",
    "y_pred = w0 + x_train.dot(w)\n",
    "print('The y_pred values:', y_pred)\n",
    "print()\n",
    "\n",
    "\n",
    "# calling the rmse function\n",
    "rmse(y_train, y_pred).round(2)\n",
    "print('The rmse value:', rmse(y_train, y_pred).round(2))\n",
    "\n",
    "# checking the outcome of the y-pred vs the y_train\n",
    "sns.histplot(y_pred, color='blue', alpha=0.5, bins=50)\n",
    "sns.histplot(y_train, color='red', alpha=0.5, bins=50)"
   ]
  },
  {
   "cell_type": "code",
   "execution_count": 1308,
   "metadata": {},
   "outputs": [
    {
     "name": "stdout",
     "output_type": "stream",
     "text": [
      "The x_val data: [[  16.   512.    15.6]\n",
      " [   8.   256.    15.6]\n",
      " [   8.   512.    15.6]\n",
      " ...\n",
      " [  16.  1000.    15.6]\n",
      " [  16.   512.    14. ]\n",
      " [  16.  1000.    17.3]]\n",
      "The rmse value: 0.44450154195088704\n"
     ]
    }
   ],
   "source": [
    "# RMSE on validation data: Filling missing values with zero\n",
    "\n",
    "# finding the missing values in the x_val data\n",
    "x_val = filling_missing_value_mean(df_val)\n",
    "print('The x_val data:', x_val)\n",
    "\n",
    "\n",
    "# mutlipling the X_val with the w values\n",
    "y_pred = w0 + x_val.dot(w)\n",
    "\n",
    "\n",
    "# calling the rmse function\n",
    "rmse(y_val, y_pred)\n",
    "print('The rmse value:', rmse(y_val, y_pred))"
   ]
  },
  {
   "cell_type": "markdown",
   "metadata": {},
   "source": [
    "#### 5.1 Dataset split with seed 4"
   ]
  },
  {
   "cell_type": "code",
   "execution_count": 1309,
   "metadata": {},
   "outputs": [
    {
     "name": "stdout",
     "output_type": "stream",
     "text": [
      "Seed value: 4\n",
      "The count of the dataset: 2160\n",
      "\n",
      "The numpy array of the dataset indices: [   0    1    2 ... 2157 2158 2159]\n",
      "\n",
      "Validation data: 432\n",
      "Test data: 432\n",
      "Training data: 1296\n",
      "Total data: 2160\n",
      "\n",
      "The x_train data shape (1296, 3)\n",
      "\n",
      "The y_pred values: [6.91815563 6.75979948 6.42306421 ... 7.31031679 6.99260282 7.88384518]\n",
      "\n",
      "The rmse value: 0.44\n"
     ]
    },
    {
     "data": {
      "text/plain": [
       "<AxesSubplot:ylabel='Count'>"
      ]
     },
     "execution_count": 1309,
     "metadata": {},
     "output_type": "execute_result"
    },
    {
     "data": {
      "image/png": "[encoded data removed]",
      "text/plain": [
       "<Figure size 640x480 with 1 Axes>"
      ]
     },
     "metadata": {},
     "output_type": "display_data"
    }
   ],
   "source": [
    "\n",
    "# splitting the data into train, val and test data, and setting the random seed\n",
    "df_train, df_val, df_test, y_train, y_val, y_test = prepare_data(df, seed_value=4)\n",
    "\n",
    "\n",
    "# applying the filling_missing_value_o function to the data, turn it into array, and checking the shape\n",
    "x_train = filling_missing_value_mean(df_train)\n",
    "print('The x_train data shape',x_train.shape)\n",
    "print()\n",
    "\n",
    "# calling the pred function y = w0 + w1x1 + w2x2 + w3x3 + w4x4 + w5x5\n",
    "y_pred = w0 + x_train.dot(w)\n",
    "print('The y_pred values:', y_pred)\n",
    "print()\n",
    "\n",
    "\n",
    "# calling the rmse function\n",
    "rmse(y_train, y_pred).round(2)\n",
    "print('The rmse value:', rmse(y_train, y_pred).round(2))\n",
    "\n",
    "# checking the outcome of the y-pred vs the y_train\n",
    "sns.histplot(y_pred, color='blue', alpha=0.5, bins=50)\n",
    "sns.histplot(y_train, color='red', alpha=0.5, bins=50)"
   ]
  },
  {
   "cell_type": "code",
   "execution_count": 1310,
   "metadata": {},
   "outputs": [
    {
     "name": "stdout",
     "output_type": "stream",
     "text": [
      "The x_val data: [[  32.  3000.    17.3]\n",
      " [  32.  1000.    16. ]\n",
      " [   8.   256.    13.3]\n",
      " ...\n",
      " [  32.  1000.    15.6]\n",
      " [  64.  1000.    16. ]\n",
      " [  16.   512.    13.3]]\n",
      "The rmse value: 0.42241871441248996\n"
     ]
    }
   ],
   "source": [
    "# RMSE on validation data: Filling missing values with zero\n",
    "\n",
    "# finding the missing values in the x_val data\n",
    "x_val = filling_missing_value_mean(df_val)\n",
    "print('The x_val data:', x_val)\n",
    "\n",
    "\n",
    "# mutlipling the X_val with the w values\n",
    "y_pred = w0 + x_val.dot(w)\n",
    "\n",
    "\n",
    "# calling the rmse function\n",
    "rmse(y_val, y_pred)\n",
    "print('The rmse value:', rmse(y_val, y_pred))"
   ]
  },
  {
   "cell_type": "markdown",
   "metadata": {},
   "source": [
    "#### 5.1 Dataset split with seed 5"
   ]
  },
  {
   "cell_type": "code",
   "execution_count": 1311,
   "metadata": {},
   "outputs": [
    {
     "name": "stdout",
     "output_type": "stream",
     "text": [
      "Seed value: 5\n",
      "The count of the dataset: 2160\n",
      "\n",
      "The numpy array of the dataset indices: [   0    1    2 ... 2157 2158 2159]\n",
      "\n",
      "Validation data: 432\n",
      "Test data: 432\n",
      "Training data: 1296\n",
      "Total data: 2160\n",
      "\n",
      "The x_train data shape (1296, 3)\n",
      "\n",
      "The y_pred values: [6.70801013 6.96994498 6.91815563 ... 9.10263932 6.90520829 6.6950628 ]\n",
      "\n",
      "The rmse value: 0.45\n"
     ]
    },
    {
     "data": {
      "text/plain": [
       "<AxesSubplot:ylabel='Count'>"
      ]
     },
     "execution_count": 1311,
     "metadata": {},
     "output_type": "execute_result"
    },
    {
     "data": {
      "image/png": "[encoded data removed]",
      "text/plain": [
       "<Figure size 640x480 with 1 Axes>"
      ]
     },
     "metadata": {},
     "output_type": "display_data"
    }
   ],
   "source": [
    "\n",
    "# splitting the data into train, val and test data, and setting the random seed\n",
    "df_train, df_val, df_test, y_train, y_val, y_test = prepare_data(df, seed_value=5)\n",
    "\n",
    "\n",
    "# applying the filling_missing_value_o function to the data, turn it into array, and checking the shape\n",
    "x_train = filling_missing_value_mean(df_train)\n",
    "print('The x_train data shape',x_train.shape)\n",
    "print()\n",
    "\n",
    "# calling the pred function y = w0 + w1x1 + w2x2 + w3x3 + w4x4 + w5x5\n",
    "y_pred = w0 + x_train.dot(w)\n",
    "print('The y_pred values:', y_pred)\n",
    "print()\n",
    "\n",
    "\n",
    "# calling the rmse function\n",
    "rmse(y_train, y_pred).round(2)\n",
    "print('The rmse value:', rmse(y_train, y_pred).round(2))\n",
    "\n",
    "# checking the outcome of the y-pred vs the y_train\n",
    "sns.histplot(y_pred, color='blue', alpha=0.5, bins=50)\n",
    "sns.histplot(y_train, color='red', alpha=0.5, bins=50)"
   ]
  },
  {
   "cell_type": "code",
   "execution_count": 1312,
   "metadata": {},
   "outputs": [
    {
     "name": "stdout",
     "output_type": "stream",
     "text": [
      "The x_val data: [[  8.  512.   15.6]\n",
      " [ 16.  512.   15.6]\n",
      " [  8.  512.   14. ]\n",
      " ...\n",
      " [  4.  256.   15.6]\n",
      " [ 16.  500.   15.6]\n",
      " [  8.  128.   13.3]]\n",
      "The rmse value: 0.42324433084438035\n"
     ]
    }
   ],
   "source": [
    "# RMSE on validation data: Filling missing values with zero\n",
    "\n",
    "# finding the missing values in the x_val data\n",
    "x_val = filling_missing_value_mean(df_val)\n",
    "print('The x_val data:', x_val)\n",
    "\n",
    "\n",
    "# mutlipling the X_val with the w values\n",
    "y_pred = w0 + x_val.dot(w)\n",
    "\n",
    "\n",
    "# calling the rmse function\n",
    "rmse(y_val, y_pred)\n",
    "print('The rmse value:', rmse(y_val, y_pred))"
   ]
  },
  {
   "cell_type": "markdown",
   "metadata": {},
   "source": [
    "#### 5.1 Dataset split with seed 6"
   ]
  },
  {
   "cell_type": "code",
   "execution_count": 1313,
   "metadata": {},
   "outputs": [
    {
     "name": "stdout",
     "output_type": "stream",
     "text": [
      "Seed value: 6\n",
      "The count of the dataset: 2160\n",
      "\n",
      "The numpy array of the dataset indices: [   0    1    2 ... 2157 2158 2159]\n",
      "\n",
      "Validation data: 432\n",
      "Test data: 432\n",
      "Training data: 1296\n",
      "Total data: 2160\n",
      "\n",
      "The x_train data shape (1296, 3)\n",
      "\n",
      "The y_pred values: [7.65939743 6.36008337 6.5396425  ... 6.91815563 6.70801013 6.96994498]\n",
      "\n",
      "The rmse value: 0.44\n"
     ]
    },
    {
     "data": {
      "text/plain": [
       "<AxesSubplot:ylabel='Count'>"
      ]
     },
     "execution_count": 1313,
     "metadata": {},
     "output_type": "execute_result"
    },
    {
     "data": {
      "image/png": "[encoded data removed]",
      "text/plain": [
       "<Figure size 640x480 with 1 Axes>"
      ]
     },
     "metadata": {},
     "output_type": "display_data"
    }
   ],
   "source": [
    "\n",
    "# splitting the data into train, val and test data, and setting the random seed\n",
    "df_train, df_val, df_test, y_train, y_val, y_test = prepare_data(df, seed_value=6)\n",
    "\n",
    "\n",
    "# applying the filling_missing_value_o function to the data, turn it into array, and checking the shape\n",
    "x_train = filling_missing_value_mean(df_train)\n",
    "print('The x_train data shape',x_train.shape)\n",
    "print()\n",
    "\n",
    "# calling the pred function y = w0 + w1x1 + w2x2 + w3x3 + w4x4 + w5x5\n",
    "y_pred = w0 + x_train.dot(w)\n",
    "print('The y_pred values:', y_pred)\n",
    "print()\n",
    "\n",
    "\n",
    "# calling the rmse function\n",
    "rmse(y_train, y_pred).round(2)\n",
    "print('The rmse value:', rmse(y_train, y_pred).round(2))\n",
    "\n",
    "# checking the outcome of the y-pred vs the y_train\n",
    "sns.histplot(y_pred, color='blue', alpha=0.5, bins=50)\n",
    "sns.histplot(y_train, color='red', alpha=0.5, bins=50)"
   ]
  },
  {
   "cell_type": "code",
   "execution_count": 1314,
   "metadata": {},
   "outputs": [
    {
     "name": "stdout",
     "output_type": "stream",
     "text": [
      "The x_val data: [[  32. 1000.   16.]\n",
      " [  16.  512.   14.]\n",
      " [  16.  512.   16.]\n",
      " ...\n",
      " [  16.  512.   14.]\n",
      " [  32. 1000.   16.]\n",
      " [  32. 1000.   17.]]\n",
      "The rmse value: 0.44083140601038767\n"
     ]
    }
   ],
   "source": [
    "# RMSE on validation data: Filling missing values with zero\n",
    "\n",
    "# finding the missing values in the x_val data\n",
    "x_val = filling_missing_value_mean(df_val)\n",
    "print('The x_val data:', x_val)\n",
    "\n",
    "\n",
    "# mutlipling the X_val with the w values\n",
    "y_pred = w0 + x_val.dot(w)\n",
    "\n",
    "\n",
    "# calling the rmse function\n",
    "rmse(y_val, y_pred)\n",
    "print('The rmse value:', rmse(y_val, y_pred))"
   ]
  },
  {
   "cell_type": "markdown",
   "metadata": {},
   "source": [
    "#### 5.1 Dataset split with seed 7"
   ]
  },
  {
   "cell_type": "code",
   "execution_count": 1315,
   "metadata": {},
   "outputs": [
    {
     "name": "stdout",
     "output_type": "stream",
     "text": [
      "Seed value: 7\n",
      "The count of the dataset: 2160\n",
      "\n",
      "The numpy array of the dataset indices: [   0    1    2 ... 2157 2158 2159]\n",
      "\n",
      "Validation data: 432\n",
      "Test data: 432\n",
      "Training data: 1296\n",
      "Total data: 2160\n",
      "\n",
      "The x_train data shape (1296, 3)\n",
      "\n",
      "The y_pred values: [6.5396425  7.31031679 6.53961637 ... 6.96994498 6.70801013 6.75979948]\n",
      "\n",
      "The rmse value: 0.44\n"
     ]
    },
    {
     "data": {
      "text/plain": [
       "<AxesSubplot:ylabel='Count'>"
      ]
     },
     "execution_count": 1315,
     "metadata": {},
     "output_type": "execute_result"
    },
    {
     "data": {
      "image/png": "[encoded data removed]",
      "text/plain": [
       "<Figure size 640x480 with 1 Axes>"
      ]
     },
     "metadata": {},
     "output_type": "display_data"
    }
   ],
   "source": [
    "\n",
    "# splitting the data into train, val and test data, and setting the random seed\n",
    "df_train, df_val, df_test, y_train, y_val, y_test = prepare_data(df, seed_value=7)\n",
    "\n",
    "\n",
    "# applying the filling_missing_value_o function to the data, turn it into array, and checking the shape\n",
    "x_train = filling_missing_value_mean(df_train)\n",
    "print('The x_train data shape',x_train.shape)\n",
    "print()\n",
    "\n",
    "# calling the pred function y = w0 + w1x1 + w2x2 + w3x3 + w4x4 + w5x5\n",
    "y_pred = w0 + x_train.dot(w)\n",
    "print('The y_pred values:', y_pred)\n",
    "print()\n",
    "\n",
    "\n",
    "# calling the rmse function\n",
    "rmse(y_train, y_pred).round(2)\n",
    "print('The rmse value:', rmse(y_train, y_pred).round(2))\n",
    "\n",
    "# checking the outcome of the y-pred vs the y_train\n",
    "sns.histplot(y_pred, color='blue', alpha=0.5, bins=50)\n",
    "sns.histplot(y_train, color='red', alpha=0.5, bins=50)"
   ]
  },
  {
   "cell_type": "code",
   "execution_count": 1316,
   "metadata": {},
   "outputs": [
    {
     "name": "stdout",
     "output_type": "stream",
     "text": [
      "The x_val data: [[   8.   512.    15.6]\n",
      " [  16.   512.    15.6]\n",
      " [   8.   512.    16. ]\n",
      " ...\n",
      " [  16.  1000.    15.6]\n",
      " [   8.   512.    15.6]\n",
      " [   8.   512.    15.6]]\n",
      "The rmse value: 0.43112046643906954\n"
     ]
    }
   ],
   "source": [
    "# RMSE on validation data: Filling missing values with zero\n",
    "\n",
    "# finding the missing values in the x_val data\n",
    "x_val = filling_missing_value_mean(df_val)\n",
    "print('The x_val data:', x_val)\n",
    "\n",
    "\n",
    "# mutlipling the X_val with the w values\n",
    "y_pred = w0 + x_val.dot(w)\n",
    "\n",
    "\n",
    "# calling the rmse function\n",
    "rmse(y_val, y_pred)\n",
    "print('The rmse value:', rmse(y_val, y_pred))"
   ]
  },
  {
   "cell_type": "markdown",
   "metadata": {},
   "source": [
    "#### 5.1 Dataset split with seed 8"
   ]
  },
  {
   "cell_type": "code",
   "execution_count": 1317,
   "metadata": {},
   "outputs": [
    {
     "name": "stdout",
     "output_type": "stream",
     "text": [
      "Seed value: 8\n",
      "The count of the dataset: 2160\n",
      "\n",
      "The numpy array of the dataset indices: [   0    1    2 ... 2157 2158 2159]\n",
      "\n",
      "Validation data: 432\n",
      "Test data: 432\n",
      "Training data: 1296\n",
      "Total data: 2160\n",
      "\n",
      "The x_train data shape (1296, 3)\n",
      "\n",
      "The y_pred values: [7.23910644 7.65939743 6.549353   ... 7.31031679 7.29089579 6.91815563]\n",
      "\n",
      "The rmse value: 0.43\n"
     ]
    },
    {
     "data": {
      "text/plain": [
       "<AxesSubplot:ylabel='Count'>"
      ]
     },
     "execution_count": 1317,
     "metadata": {},
     "output_type": "execute_result"
    },
    {
     "data": {
      "image/png": "[encoded data removed]",
      "text/plain": [
       "<Figure size 640x480 with 1 Axes>"
      ]
     },
     "metadata": {},
     "output_type": "display_data"
    }
   ],
   "source": [
    "\n",
    "# splitting the data into train, val and test data, and setting the random seed\n",
    "df_train, df_val, df_test, y_train, y_val, y_test = prepare_data(df, seed_value=8)\n",
    "\n",
    "\n",
    "# applying the filling_missing_value_o function to the data, turn it into array, and checking the shape\n",
    "x_train = filling_missing_value_mean(df_train)\n",
    "print('The x_train data shape',x_train.shape)\n",
    "print()\n",
    "\n",
    "# calling the pred function y = w0 + w1x1 + w2x2 + w3x3 + w4x4 + w5x5\n",
    "y_pred = w0 + x_train.dot(w)\n",
    "print('The y_pred values:', y_pred)\n",
    "print()\n",
    "\n",
    "\n",
    "# calling the rmse function\n",
    "rmse(y_train, y_pred).round(2)\n",
    "print('The rmse value:', rmse(y_train, y_pred).round(2))\n",
    "\n",
    "# checking the outcome of the y-pred vs the y_train\n",
    "sns.histplot(y_pred, color='blue', alpha=0.5, bins=50)\n",
    "sns.histplot(y_train, color='red', alpha=0.5, bins=50)"
   ]
  },
  {
   "cell_type": "code",
   "execution_count": 1318,
   "metadata": {},
   "outputs": [
    {
     "name": "stdout",
     "output_type": "stream",
     "text": [
      "The x_val data: [[   8.   512.    15.6]\n",
      " [  16.  1000.    14.2]\n",
      " [  16.   512.    13.3]\n",
      " ...\n",
      " [   8.    32.    14. ]\n",
      " [  16.   512.    14. ]\n",
      " [   8.   512.    15.6]]\n",
      "The rmse value: 0.4436650072816993\n"
     ]
    }
   ],
   "source": [
    "# RMSE on validation data: Filling missing values with zero\n",
    "\n",
    "# finding the missing values in the x_val data\n",
    "x_val = filling_missing_value_mean(df_val)\n",
    "print('The x_val data:', x_val)\n",
    "\n",
    "\n",
    "# mutlipling the X_val with the w values\n",
    "y_pred = w0 + x_val.dot(w)\n",
    "\n",
    "\n",
    "# calling the rmse function\n",
    "rmse(y_val, y_pred)\n",
    "print('The rmse value:', rmse(y_val, y_pred))"
   ]
  },
  {
   "cell_type": "markdown",
   "metadata": {},
   "source": [
    "#### 5.1 Dataset split with seed 9"
   ]
  },
  {
   "cell_type": "code",
   "execution_count": 1319,
   "metadata": {},
   "outputs": [
    {
     "name": "stdout",
     "output_type": "stream",
     "text": [
      "Seed value: 9\n",
      "The count of the dataset: 2160\n",
      "\n",
      "The numpy array of the dataset indices: [   0    1    2 ... 2157 2158 2159]\n",
      "\n",
      "Validation data: 432\n",
      "Test data: 432\n",
      "Training data: 1296\n",
      "Total data: 2160\n",
      "\n",
      "The x_train data shape (1296, 3)\n",
      "\n",
      "The y_pred values: [7.65939743 6.78245732 6.70801013 ... 6.45545868 7.18408026 8.30413617]\n",
      "\n",
      "The rmse value: 0.44\n"
     ]
    },
    {
     "data": {
      "text/plain": [
       "<AxesSubplot:ylabel='Count'>"
      ]
     },
     "execution_count": 1319,
     "metadata": {},
     "output_type": "execute_result"
    },
    {
     "data": {
      "image/png": "[encoded data removed]",
      "text/plain": [
       "<Figure size 640x480 with 1 Axes>"
      ]
     },
     "metadata": {},
     "output_type": "display_data"
    }
   ],
   "source": [
    "\n",
    "# splitting the data into train, val and test data, and setting the random seed\n",
    "df_train, df_val, df_test, y_train, y_val, y_test = prepare_data(df, seed_value=9)\n",
    "\n",
    "\n",
    "# applying the filling_missing_value_o function to the data, turn it into array, and checking the shape\n",
    "x_train = filling_missing_value_mean(df_train)\n",
    "print('The x_train data shape',x_train.shape)\n",
    "print()\n",
    "\n",
    "# calling the pred function y = w0 + w1x1 + w2x2 + w3x3 + w4x4 + w5x5\n",
    "y_pred = w0 + x_train.dot(w)\n",
    "print('The y_pred values:', y_pred)\n",
    "print()\n",
    "\n",
    "\n",
    "# calling the rmse function\n",
    "rmse(y_train, y_pred).round(2)\n",
    "print('The rmse value:', rmse(y_train, y_pred).round(2))\n",
    "\n",
    "# checking the outcome of the y-pred vs the y_train\n",
    "sns.histplot(y_pred, color='blue', alpha=0.5, bins=50)\n",
    "sns.histplot(y_train, color='red', alpha=0.5, bins=50)"
   ]
  },
  {
   "cell_type": "code",
   "execution_count": 1320,
   "metadata": {},
   "outputs": [
    {
     "name": "stdout",
     "output_type": "stream",
     "text": [
      "The x_val data: [[ 16.  512.   14. ]\n",
      " [  8.  256.   15.6]\n",
      " [  8.  512.   15.6]\n",
      " ...\n",
      " [  8.  256.   15.6]\n",
      " [ 16.  512.   15.6]\n",
      " [ 16.  512.   15.6]]\n",
      "The rmse value: 0.40550481428288027\n"
     ]
    }
   ],
   "source": [
    "# RMSE on validation data: Filling missing values with zero\n",
    "\n",
    "# finding the missing values in the x_val data\n",
    "x_val = filling_missing_value_mean(df_val)\n",
    "print('The x_val data:', x_val)\n",
    "\n",
    "\n",
    "# mutlipling the X_val with the w values\n",
    "y_pred = w0 + x_val.dot(w)\n",
    "\n",
    "\n",
    "# calling the rmse function\n",
    "rmse(y_val, y_pred)\n",
    "print('The rmse value:', rmse(y_val, y_pred))"
   ]
  },
  {
   "cell_type": "code",
   "execution_count": 1397,
   "metadata": {},
   "outputs": [
    {
     "name": "stdout",
     "output_type": "stream",
     "text": [
      "Seed value: 0\n",
      "\n",
      "Seed value: 1\n",
      "\n",
      "Seed value: 2\n",
      "\n",
      "Seed value: 3\n",
      "\n",
      "Seed value: 4\n",
      "\n",
      "Seed value: 5\n",
      "\n",
      "Seed value: 6\n",
      "\n",
      "Seed value: 7\n",
      "\n",
      "Seed value: 8\n",
      "\n",
      "Seed value: 9\n",
      "\n",
      "[0.43, 0.45, 0.45, 0.45, 0.42, 0.43, 0.45, 0.43, 0.44, 0.41]\n"
     ]
    }
   ],
   "source": [
    "def collect_rmse_scores(df, seed_values, fill_method):\n",
    "    rmse_scores = []\n",
    "    \n",
    "    for seed_value in seed_values:\n",
    "        # Prepare the data\n",
    "        df_train, df_val, df_test, y_train, y_val, y_test = prepare_data(df, seed_value=seed_value)\n",
    "        \n",
    "        # Fill missing values\n",
    "        if fill_method == 'zero':\n",
    "            x_train = filling_missing_value_0(df_train)\n",
    "            x_val = filling_missing_value_0(df_val)\n",
    "        elif fill_method == 'mean':\n",
    "            x_train = filling_missing_value_mean(df_train)\n",
    "            x_val = filling_missing_value_mean(df_val)\n",
    "        else:\n",
    "            raise ValueError(\"Invalid fill method. Use 'zero' or 'mean'.\")\n",
    "        \n",
    "        # Train the model\n",
    "        w0, w = train_linear_regression(x_train, y_train)\n",
    "        \n",
    "        # Predict and calculate RMSE\n",
    "        y_pred = w0 + x_val.dot(w)\n",
    "        score = rmse(y_val, y_pred).round(2)\n",
    "        \n",
    "        # Collect the RMSE score\n",
    "        rmse_scores.append(score)\n",
    "    \n",
    "    return rmse_scores\n",
    "\n",
    "# Example usage:\n",
    "seed_values = list(range(10))\n",
    "fill_method = 'zero'  # or 'mean'\n",
    "rmse_scores = collect_rmse_scores(df, seed_values, fill_method)\n",
    "print(rmse_scores)"
   ]
  },
  {
   "cell_type": "code",
   "execution_count": 1401,
   "metadata": {},
   "outputs": [
    {
     "data": {
      "text/plain": [
       "0.014"
      ]
     },
     "execution_count": 1401,
     "metadata": {},
     "output_type": "execute_result"
    }
   ],
   "source": [
    "# standard deviation of the rmse scores\n",
    "np.std(rmse_scores).round(3)"
   ]
  },
  {
   "cell_type": "markdown",
   "metadata": {},
   "source": [
    "### Question 6"
   ]
  },
  {
   "cell_type": "markdown",
   "metadata": {},
   "source": [
    "- Split the dataset like previously, use seed 9.\n",
    "- Combine train and validation datasets.\n",
    "- Fill the missing values with 0 and train a model with r=0.001.\n",
    "- What's the RMSE on the test dataset?"
   ]
  },
  {
   "cell_type": "code",
   "execution_count": 1411,
   "metadata": {},
   "outputs": [
    {
     "name": "stdout",
     "output_type": "stream",
     "text": [
      "Seed value: 9\n",
      "\n"
     ]
    }
   ],
   "source": [
    "df_train, df_val, df_test, y_train, y_val, y_test = prepare_data(df, seed_value=9)"
   ]
  },
  {
   "cell_type": "code",
   "execution_count": 1412,
   "metadata": {},
   "outputs": [],
   "source": [
    "df_full_train = pd.concat([df_train, df_val])"
   ]
  },
  {
   "cell_type": "code",
   "execution_count": 1413,
   "metadata": {},
   "outputs": [],
   "source": [
    "df_full_train = df_full_train.reset_index(drop=True)"
   ]
  },
  {
   "cell_type": "code",
   "execution_count": 1420,
   "metadata": {},
   "outputs": [],
   "source": [
    "X_full_train = filling_missing_value_0(df_full_train)"
   ]
  },
  {
   "cell_type": "code",
   "execution_count": 1422,
   "metadata": {},
   "outputs": [
    {
     "data": {
      "text/plain": [
       "array([[  32. , 1000. ,   15.6],\n",
       "       [   8. ,  512. ,   13.3],\n",
       "       [   8. ,  512. ,   15.6],\n",
       "       ...,\n",
       "       [   8. ,  256. ,   15.6],\n",
       "       [  16. ,  512. ,   15.6],\n",
       "       [  16. ,  512. ,   15.6]])"
      ]
     },
     "execution_count": 1422,
     "metadata": {},
     "output_type": "execute_result"
    }
   ],
   "source": [
    "X_full_train"
   ]
  },
  {
   "cell_type": "code",
   "execution_count": 1423,
   "metadata": {},
   "outputs": [],
   "source": [
    "y_full_train = np.concatenate([y_train, y_val])"
   ]
  },
  {
   "cell_type": "code",
   "execution_count": 1424,
   "metadata": {},
   "outputs": [],
   "source": [
    "w0, w = train_linear_regression_reg(X_full_train, y_full_train, r=0.001)"
   ]
  },
  {
   "cell_type": "code",
   "execution_count": 1425,
   "metadata": {},
   "outputs": [
    {
     "data": {
      "text/plain": [
       "0.4553047228091104"
      ]
     },
     "execution_count": 1425,
     "metadata": {},
     "output_type": "execute_result"
    }
   ],
   "source": [
    "x_test = filling_missing_value_0(df_test)\n",
    "y_pred = w0 + x_test.dot(w)\n",
    "score = rmse(y_test, y_pred)\n",
    "score"
   ]
  }
 ],
 "metadata": {
  "kernelspec": {
   "display_name": "golden_scenario_env",
   "language": "python",
   "name": "python3"
  },
  "language_info": {
   "codemirror_mode": {
    "name": "ipython",
    "version": 3
   },
   "file_extension": ".py",
   "mimetype": "text/x-python",
   "name": "python",
   "nbconvert_exporter": "python",
   "pygments_lexer": "ipython3",
   "version": "3.9.15"
  }
 },
 "nbformat": 4,
 "nbformat_minor": 2
}
