{
 "cells": [
  {
   "cell_type": "code",
   "execution_count": 89,
   "metadata": {},
   "outputs": [],
   "source": [
    "file_path = r'/Users/teslim/OneDrive/13_world_gdp_data.xlsx'\n",
    "import pandas as pd"
   ]
  },
  {
   "cell_type": "code",
   "execution_count": 90,
   "metadata": {},
   "outputs": [],
   "source": [
    "df = pd.read_excel(file_path) "
   ]
  },
  {
   "cell_type": "code",
   "execution_count": 91,
   "metadata": {},
   "outputs": [
    {
     "data": {
      "text/html": [
       "<div>\n",
       "<style scoped>\n",
       "    .dataframe tbody tr th:only-of-type {\n",
       "        vertical-align: middle;\n",
       "    }\n",
       "\n",
       "    .dataframe tbody tr th {\n",
       "        vertical-align: top;\n",
       "    }\n",
       "\n",
       "    .dataframe thead th {\n",
       "        text-align: right;\n",
       "    }\n",
       "</style>\n",
       "<table border=\"1\" class=\"dataframe\">\n",
       "  <thead>\n",
       "    <tr style=\"text-align: right;\">\n",
       "      <th></th>\n",
       "      <th>n</th>\n",
       "      <th>ISO</th>\n",
       "      <th>COUNTRY</th>\n",
       "      <th>INDICATOR</th>\n",
       "      <th>1950</th>\n",
       "      <th>1951</th>\n",
       "      <th>1952</th>\n",
       "      <th>1953</th>\n",
       "      <th>1954</th>\n",
       "      <th>1955</th>\n",
       "      <th>...</th>\n",
       "      <th>2013</th>\n",
       "      <th>2014</th>\n",
       "      <th>2015</th>\n",
       "      <th>2016</th>\n",
       "      <th>2017</th>\n",
       "      <th>2018</th>\n",
       "      <th>2019</th>\n",
       "      <th>2020</th>\n",
       "      <th>2021</th>\n",
       "      <th>2022</th>\n",
       "    </tr>\n",
       "  </thead>\n",
       "  <tbody>\n",
       "    <tr>\n",
       "      <th>0</th>\n",
       "      <td>Africa</td>\n",
       "      <td>DZA</td>\n",
       "      <td>Algeria</td>\n",
       "      <td>Real GDP</td>\n",
       "      <td>40781.7</td>\n",
       "      <td>41067.2</td>\n",
       "      <td>42902.4</td>\n",
       "      <td>43840.4</td>\n",
       "      <td>46409.6</td>\n",
       "      <td>47796.2</td>\n",
       "      <td>...</td>\n",
       "      <td>473808.3</td>\n",
       "      <td>491813.0</td>\n",
       "      <td>510010.1</td>\n",
       "      <td>526330.4</td>\n",
       "      <td>533699.1</td>\n",
       "      <td>540103.5</td>\n",
       "      <td>544424.3</td>\n",
       "      <td>517747.5</td>\n",
       "      <td>533279.9</td>\n",
       "      <td>549278.3</td>\n",
       "    </tr>\n",
       "    <tr>\n",
       "      <th>1</th>\n",
       "      <td>Africa</td>\n",
       "      <td>DZA</td>\n",
       "      <td>Algeria</td>\n",
       "      <td>Nominal GDP</td>\n",
       "      <td>4508.7</td>\n",
       "      <td>4862.1</td>\n",
       "      <td>5167.2</td>\n",
       "      <td>5344.1</td>\n",
       "      <td>5709.6</td>\n",
       "      <td>5979.6</td>\n",
       "      <td>...</td>\n",
       "      <td>407286.1</td>\n",
       "      <td>430668.2</td>\n",
       "      <td>451071.3</td>\n",
       "      <td>470170.8</td>\n",
       "      <td>485801.4</td>\n",
       "      <td>503376.2</td>\n",
       "      <td>516479.3</td>\n",
       "      <td>497091.5</td>\n",
       "      <td>533279.9</td>\n",
       "      <td>579518.5</td>\n",
       "    </tr>\n",
       "    <tr>\n",
       "      <th>2</th>\n",
       "      <td>Africa</td>\n",
       "      <td>DZA</td>\n",
       "      <td>Algeria</td>\n",
       "      <td>Employment</td>\n",
       "      <td>1744.0</td>\n",
       "      <td>1758.3</td>\n",
       "      <td>1776.7</td>\n",
       "      <td>1802.9</td>\n",
       "      <td>1795.5</td>\n",
       "      <td>1815.8</td>\n",
       "      <td>...</td>\n",
       "      <td>10788.0</td>\n",
       "      <td>10239.0</td>\n",
       "      <td>10594.0</td>\n",
       "      <td>10845.0</td>\n",
       "      <td>10858.0</td>\n",
       "      <td>11001.0</td>\n",
       "      <td>11140.9</td>\n",
       "      <td>10541.0</td>\n",
       "      <td>10779.3</td>\n",
       "      <td>11252.6</td>\n",
       "    </tr>\n",
       "    <tr>\n",
       "      <th>3</th>\n",
       "      <td>Africa</td>\n",
       "      <td>DZA</td>\n",
       "      <td>Algeria</td>\n",
       "      <td>Average Hours Worked</td>\n",
       "      <td>NaN</td>\n",
       "      <td>NaN</td>\n",
       "      <td>NaN</td>\n",
       "      <td>NaN</td>\n",
       "      <td>NaN</td>\n",
       "      <td>NaN</td>\n",
       "      <td>...</td>\n",
       "      <td>2230.0</td>\n",
       "      <td>2212.8</td>\n",
       "      <td>2195.5</td>\n",
       "      <td>2212.5</td>\n",
       "      <td>2176.3</td>\n",
       "      <td>2170.5</td>\n",
       "      <td>2159.7</td>\n",
       "      <td>2070.6</td>\n",
       "      <td>2100.7</td>\n",
       "      <td>2174.6</td>\n",
       "    </tr>\n",
       "    <tr>\n",
       "      <th>4</th>\n",
       "      <td>Africa</td>\n",
       "      <td>DZA</td>\n",
       "      <td>Algeria</td>\n",
       "      <td>Total Hours</td>\n",
       "      <td>NaN</td>\n",
       "      <td>NaN</td>\n",
       "      <td>NaN</td>\n",
       "      <td>NaN</td>\n",
       "      <td>NaN</td>\n",
       "      <td>NaN</td>\n",
       "      <td>...</td>\n",
       "      <td>24057.6</td>\n",
       "      <td>22656.5</td>\n",
       "      <td>23259.0</td>\n",
       "      <td>23994.2</td>\n",
       "      <td>23629.9</td>\n",
       "      <td>23878.0</td>\n",
       "      <td>24060.8</td>\n",
       "      <td>21826.2</td>\n",
       "      <td>22643.8</td>\n",
       "      <td>24469.3</td>\n",
       "    </tr>\n",
       "  </tbody>\n",
       "</table>\n",
       "<p>5 rows × 77 columns</p>\n",
       "</div>"
      ],
      "text/plain": [
       "        n  ISO  COUNTRY             INDICATOR     1950     1951     1952  \\\n",
       "0  Africa  DZA  Algeria              Real GDP  40781.7  41067.2  42902.4   \n",
       "1  Africa  DZA  Algeria           Nominal GDP   4508.7   4862.1   5167.2   \n",
       "2  Africa  DZA  Algeria            Employment   1744.0   1758.3   1776.7   \n",
       "3  Africa  DZA  Algeria  Average Hours Worked      NaN      NaN      NaN   \n",
       "4  Africa  DZA  Algeria           Total Hours      NaN      NaN      NaN   \n",
       "\n",
       "      1953     1954     1955  ...      2013      2014      2015      2016  \\\n",
       "0  43840.4  46409.6  47796.2  ...  473808.3  491813.0  510010.1  526330.4   \n",
       "1   5344.1   5709.6   5979.6  ...  407286.1  430668.2  451071.3  470170.8   \n",
       "2   1802.9   1795.5   1815.8  ...   10788.0   10239.0   10594.0   10845.0   \n",
       "3      NaN      NaN      NaN  ...    2230.0    2212.8    2195.5    2212.5   \n",
       "4      NaN      NaN      NaN  ...   24057.6   22656.5   23259.0   23994.2   \n",
       "\n",
       "       2017      2018      2019      2020      2021      2022  \n",
       "0  533699.1  540103.5  544424.3  517747.5  533279.9  549278.3  \n",
       "1  485801.4  503376.2  516479.3  497091.5  533279.9  579518.5  \n",
       "2   10858.0   11001.0   11140.9   10541.0   10779.3   11252.6  \n",
       "3    2176.3    2170.5    2159.7    2070.6    2100.7    2174.6  \n",
       "4   23629.9   23878.0   24060.8   21826.2   22643.8   24469.3  \n",
       "\n",
       "[5 rows x 77 columns]"
      ]
     },
     "execution_count": 91,
     "metadata": {},
     "output_type": "execute_result"
    }
   ],
   "source": [
    "df.head()\n"
   ]
  },
  {
   "cell_type": "code",
   "execution_count": 115,
   "metadata": {},
   "outputs": [
    {
     "name": "stdout",
     "output_type": "stream",
     "text": [
      "<class 'pandas.core.frame.DataFrame'>\n",
      "RangeIndex: 2128 entries, 0 to 2127\n",
      "Data columns (total 77 columns):\n",
      " #   Column     Non-Null Count  Dtype  \n",
      "---  ------     --------------  -----  \n",
      " 0   n          2128 non-null   object \n",
      " 1   ISO        2128 non-null   object \n",
      " 2   COUNTRY    2128 non-null   object \n",
      " 3   INDICATOR  2128 non-null   object \n",
      " 4   1950       2128 non-null   float64\n",
      " 5   1951       1464 non-null   float64\n",
      " 6   1952       1473 non-null   float64\n",
      " 7   1953       1480 non-null   float64\n",
      " 8   1954       1480 non-null   float64\n",
      " 9   1955       1480 non-null   float64\n",
      " 10  1956       1480 non-null   float64\n",
      " 11  1957       1480 non-null   float64\n",
      " 12  1958       1480 non-null   float64\n",
      " 13  1959       1480 non-null   float64\n",
      " 14  1960       1480 non-null   float64\n",
      " 15  1961       1480 non-null   float64\n",
      " 16  1962       1480 non-null   float64\n",
      " 17  1963       1480 non-null   float64\n",
      " 18  1964       1483 non-null   float64\n",
      " 19  1965       1484 non-null   float64\n",
      " 20  1966       1484 non-null   float64\n",
      " 21  1967       1484 non-null   float64\n",
      " 22  1968       1484 non-null   float64\n",
      " 23  1969       1484 non-null   float64\n",
      " 24  1970       1652 non-null   float64\n",
      " 25  1971       1792 non-null   float64\n",
      " 26  1972       1792 non-null   float64\n",
      " 27  1973       1792 non-null   float64\n",
      " 28  1974       1792 non-null   float64\n",
      " 29  1975       1792 non-null   float64\n",
      " 30  1976       1792 non-null   float64\n",
      " 31  1977       1792 non-null   float64\n",
      " 32  1978       1792 non-null   float64\n",
      " 33  1979       1792 non-null   float64\n",
      " 34  1980       1795 non-null   float64\n",
      " 35  1981       1799 non-null   float64\n",
      " 36  1982       1800 non-null   float64\n",
      " 37  1983       1800 non-null   float64\n",
      " 38  1984       1800 non-null   float64\n",
      " 39  1985       1800 non-null   float64\n",
      " 40  1986       1803 non-null   float64\n",
      " 41  1987       1807 non-null   float64\n",
      " 42  1988       1808 non-null   float64\n",
      " 43  1989       1808 non-null   float64\n",
      " 44  1990       1817 non-null   float64\n",
      " 45  1991       1823 non-null   float64\n",
      " 46  1992       1827 non-null   float64\n",
      " 47  1993       1834 non-null   float64\n",
      " 48  1994       1839 non-null   float64\n",
      " 49  1995       1867 non-null   float64\n",
      " 50  1996       1876 non-null   float64\n",
      " 51  1997       1876 non-null   float64\n",
      " 52  1998       1876 non-null   float64\n",
      " 53  1999       1876 non-null   float64\n",
      " 54  2000       1876 non-null   float64\n",
      " 55  2001       1879 non-null   float64\n",
      " 56  2002       1880 non-null   float64\n",
      " 57  2003       1880 non-null   float64\n",
      " 58  2004       1880 non-null   float64\n",
      " 59  2005       2066 non-null   float64\n",
      " 60  2006       2128 non-null   float64\n",
      " 61  2007       2128 non-null   float64\n",
      " 62  2008       2128 non-null   float64\n",
      " 63  2009       2128 non-null   float64\n",
      " 64  2010       2128 non-null   float64\n",
      " 65  2011       2128 non-null   float64\n",
      " 66  2012       2128 non-null   float64\n",
      " 67  2013       2128 non-null   float64\n",
      " 68  2014       2128 non-null   float64\n",
      " 69  2015       2128 non-null   float64\n",
      " 70  2016       2128 non-null   float64\n",
      " 71  2017       2128 non-null   float64\n",
      " 72  2018       2128 non-null   float64\n",
      " 73  2019       2128 non-null   float64\n",
      " 74  2020       2128 non-null   float64\n",
      " 75  2021       2128 non-null   float64\n",
      " 76  2022       2128 non-null   float64\n",
      "dtypes: float64(73), object(4)\n",
      "memory usage: 1.3+ MB\n"
     ]
    }
   ],
   "source": [
    "df.info()"
   ]
  },
  {
   "cell_type": "code",
   "execution_count": 116,
   "metadata": {},
   "outputs": [
    {
     "data": {
      "text/plain": [
       "n            0\n",
       "ISO          0\n",
       "COUNTRY      0\n",
       "INDICATOR    0\n",
       "1950         0\n",
       "            ..\n",
       "2018         0\n",
       "2019         0\n",
       "2020         0\n",
       "2021         0\n",
       "2022         0\n",
       "Length: 77, dtype: int64"
      ]
     },
     "execution_count": 116,
     "metadata": {},
     "output_type": "execute_result"
    }
   ],
   "source": [
    "df.isnull().sum()"
   ]
  },
  {
   "cell_type": "code",
   "execution_count": 117,
   "metadata": {},
   "outputs": [
    {
     "data": {
      "text/plain": [
       "n\n",
       "Africa                                         528\n",
       "Central and Eastern Europe and Central Asia    448\n",
       "Western Europe                                 320\n",
       "Asia                                           288\n",
       "Latin America                                  256\n",
       "Middle East                                    208\n",
       "North America                                   48\n",
       "Oceania                                         32\n",
       "Name: count, dtype: int64"
      ]
     },
     "execution_count": 117,
     "metadata": {},
     "output_type": "execute_result"
    }
   ],
   "source": [
    "df['n'].value_counts()"
   ]
  },
  {
   "cell_type": "code",
   "execution_count": 118,
   "metadata": {},
   "outputs": [
    {
     "data": {
      "text/plain": [
       "n               8\n",
       "ISO           133\n",
       "COUNTRY       133\n",
       "INDICATOR      16\n",
       "1950          728\n",
       "             ... \n",
       "2018         1220\n",
       "2019         1233\n",
       "2020         1335\n",
       "2021         1167\n",
       "2022         1245\n",
       "Length: 77, dtype: int64"
      ]
     },
     "execution_count": 118,
     "metadata": {},
     "output_type": "execute_result"
    }
   ],
   "source": [
    "df.nunique()"
   ]
  },
  {
   "cell_type": "code",
   "execution_count": null,
   "metadata": {},
   "outputs": [],
   "source": []
  },
  {
   "cell_type": "code",
   "execution_count": 119,
   "metadata": {},
   "outputs": [
    {
     "data": {
      "text/plain": [
       "np.False_"
      ]
     },
     "execution_count": 119,
     "metadata": {},
     "output_type": "execute_result"
    }
   ],
   "source": [
    "df[1950].isnull().any()\n"
   ]
  },
  {
   "cell_type": "code",
   "execution_count": 120,
   "metadata": {},
   "outputs": [
    {
     "data": {
      "text/plain": [
       "np.False_"
      ]
     },
     "execution_count": 120,
     "metadata": {},
     "output_type": "execute_result"
    }
   ],
   "source": [
    "df[1950] =df[1950].fillna(0)\n",
    "df[1950].isnull().any()\n"
   ]
  },
  {
   "cell_type": "code",
   "execution_count": 121,
   "metadata": {},
   "outputs": [
    {
     "data": {
      "text/plain": [
       "0       40781.7\n",
       "1        4508.7\n",
       "2        1744.0\n",
       "3           0.0\n",
       "4           0.0\n",
       "         ...   \n",
       "2123        0.0\n",
       "2124        0.0\n",
       "2125        0.0\n",
       "2126        0.0\n",
       "2127        0.0\n",
       "Name: 1950, Length: 2128, dtype: category\n",
       "Categories (728, float64): [0.0, 1.0, 2.0, 4.0, ..., 765591.0, 777126.0, 2398775.0, 2711989.0]"
      ]
     },
     "execution_count": 121,
     "metadata": {},
     "output_type": "execute_result"
    }
   ],
   "source": [
    "df[1950].astype('category')\n"
   ]
  },
  {
   "cell_type": "code",
   "execution_count": 101,
   "metadata": {},
   "outputs": [
    {
     "data": {
      "text/plain": [
       "dtype('float64')"
      ]
     },
     "execution_count": 101,
     "metadata": {},
     "output_type": "execute_result"
    }
   ],
   "source": [
    "df[1950].dtype"
   ]
  },
  {
   "cell_type": "code",
   "execution_count": 123,
   "metadata": {},
   "outputs": [
    {
     "data": {
      "text/plain": [
       "0         88.0\n",
       "1        393.0\n",
       "2        572.0\n",
       "3       1447.0\n",
       "4       1447.0\n",
       "         ...  \n",
       "2123    1447.0\n",
       "2124    1447.0\n",
       "2125    1447.0\n",
       "2126    1447.0\n",
       "2127    1447.0\n",
       "Name: 1950, Length: 2128, dtype: float64"
      ]
     },
     "execution_count": 123,
     "metadata": {},
     "output_type": "execute_result"
    }
   ],
   "source": [
    "df[1950].rank(ascending=False)"
   ]
  }
 ],
 "metadata": {
  "kernelspec": {
   "display_name": "data-science-env",
   "language": "python",
   "name": "python3"
  },
  "language_info": {
   "codemirror_mode": {
    "name": "ipython",
    "version": 3
   },
   "file_extension": ".py",
   "mimetype": "text/x-python",
   "name": "python",
   "nbconvert_exporter": "python",
   "pygments_lexer": "ipython3",
   "version": "3.12.6"
  }
 },
 "nbformat": 4,
 "nbformat_minor": 2
}
